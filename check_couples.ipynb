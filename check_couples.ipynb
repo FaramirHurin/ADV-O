{
 "cells": [
  {
   "cell_type": "code",
   "execution_count": 1,
   "metadata": {
    "ExecuteTime": {
     "start_time": "2023-04-26T11:58:36.464652Z",
     "end_time": "2023-04-26T11:58:37.615864Z"
    }
   },
   "outputs": [],
   "source": [
    "import pandas as pd "
   ]
  },
  {
   "cell_type": "code",
   "execution_count": 3,
   "metadata": {
    "ExecuteTime": {
     "start_time": "2023-04-26T11:58:51.585872Z",
     "end_time": "2023-04-26T11:58:51.655266Z"
    }
   },
   "outputs": [
    {
     "data": {
      "text/plain": "    prev_X_TERMINAL  prev_Y_TERMINAL  next_X_TERMINAL  next_Y_TERMINAL\n6            -29.60             1.63            23.26            18.63\n7            -29.60             1.63             0.17           -12.83\n8            -29.60             1.63            27.54            18.85\n9            -29.60             1.63            42.24           -19.19\n10           -29.60             1.63             7.58            26.25\n11           -29.60             1.63            -0.70           -12.32\n12           -29.60             1.63            35.15            30.03\n13           -29.60             1.63            -9.80           -46.37\n14           -29.60             1.63           -10.29           -40.46\n15           -29.60             1.63            -3.04           -26.14\n16            23.26            18.63             0.17           -12.83\n17            23.26            18.63            27.54            18.85\n18            23.26            18.63            42.24           -19.19\n19            23.26            18.63             7.58            26.25\n20            23.26            18.63            -0.70           -12.32\n21            23.26            18.63            35.15            30.03\n22            23.26            18.63            -9.80           -46.37\n23            23.26            18.63           -10.29           -40.46\n24            23.26            18.63            -3.04           -26.14\n25             0.17           -12.83            27.54            18.85\n26             0.17           -12.83            42.24           -19.19\n27             0.17           -12.83             7.58            26.25\n28             0.17           -12.83            -0.70           -12.32\n29             0.17           -12.83            35.15            30.03\n30             0.17           -12.83            -9.80           -46.37\n31             0.17           -12.83           -10.29           -40.46\n32             0.17           -12.83            -3.04           -26.14\n33            27.54            18.85            42.24           -19.19\n34            27.54            18.85             7.58            26.25\n35            27.54            18.85            -0.70           -12.32\n36            27.54            18.85            35.15            30.03\n37            27.54            18.85            -9.80           -46.37\n38            27.54            18.85           -10.29           -40.46\n39            27.54            18.85            -3.04           -26.14\n40            42.24           -19.19             7.58            26.25\n41            42.24           -19.19            -0.70           -12.32\n42            42.24           -19.19            35.15            30.03\n43            42.24           -19.19            -9.80           -46.37\n44            42.24           -19.19           -10.29           -40.46\n45            42.24           -19.19            -3.04           -26.14\n46             7.58            26.25            -0.70           -12.32\n47             7.58            26.25            35.15            30.03\n48             7.58            26.25            -9.80           -46.37\n49             7.58            26.25           -10.29           -40.46\n50             7.58            26.25            -3.04           -26.14\n51            -0.70           -12.32            35.15            30.03\n52            -0.70           -12.32            -9.80           -46.37\n53            -0.70           -12.32           -10.29           -40.46\n54            -0.70           -12.32            -3.04           -26.14\n55            35.15            30.03            -9.80           -46.37\n56            35.15            30.03           -10.29           -40.46\n57            35.15            30.03            -3.04           -26.14\n58            -9.80           -46.37           -10.29           -40.46\n59            -9.80           -46.37            -3.04           -26.14\n60           -10.29           -40.46            -3.04           -26.14",
      "text/html": "<div>\n<style scoped>\n    .dataframe tbody tr th:only-of-type {\n        vertical-align: middle;\n    }\n\n    .dataframe tbody tr th {\n        vertical-align: top;\n    }\n\n    .dataframe thead th {\n        text-align: right;\n    }\n</style>\n<table border=\"1\" class=\"dataframe\">\n  <thead>\n    <tr style=\"text-align: right;\">\n      <th></th>\n      <th>prev_X_TERMINAL</th>\n      <th>prev_Y_TERMINAL</th>\n      <th>next_X_TERMINAL</th>\n      <th>next_Y_TERMINAL</th>\n    </tr>\n  </thead>\n  <tbody>\n    <tr>\n      <th>6</th>\n      <td>-29.60</td>\n      <td>1.63</td>\n      <td>23.26</td>\n      <td>18.63</td>\n    </tr>\n    <tr>\n      <th>7</th>\n      <td>-29.60</td>\n      <td>1.63</td>\n      <td>0.17</td>\n      <td>-12.83</td>\n    </tr>\n    <tr>\n      <th>8</th>\n      <td>-29.60</td>\n      <td>1.63</td>\n      <td>27.54</td>\n      <td>18.85</td>\n    </tr>\n    <tr>\n      <th>9</th>\n      <td>-29.60</td>\n      <td>1.63</td>\n      <td>42.24</td>\n      <td>-19.19</td>\n    </tr>\n    <tr>\n      <th>10</th>\n      <td>-29.60</td>\n      <td>1.63</td>\n      <td>7.58</td>\n      <td>26.25</td>\n    </tr>\n    <tr>\n      <th>11</th>\n      <td>-29.60</td>\n      <td>1.63</td>\n      <td>-0.70</td>\n      <td>-12.32</td>\n    </tr>\n    <tr>\n      <th>12</th>\n      <td>-29.60</td>\n      <td>1.63</td>\n      <td>35.15</td>\n      <td>30.03</td>\n    </tr>\n    <tr>\n      <th>13</th>\n      <td>-29.60</td>\n      <td>1.63</td>\n      <td>-9.80</td>\n      <td>-46.37</td>\n    </tr>\n    <tr>\n      <th>14</th>\n      <td>-29.60</td>\n      <td>1.63</td>\n      <td>-10.29</td>\n      <td>-40.46</td>\n    </tr>\n    <tr>\n      <th>15</th>\n      <td>-29.60</td>\n      <td>1.63</td>\n      <td>-3.04</td>\n      <td>-26.14</td>\n    </tr>\n    <tr>\n      <th>16</th>\n      <td>23.26</td>\n      <td>18.63</td>\n      <td>0.17</td>\n      <td>-12.83</td>\n    </tr>\n    <tr>\n      <th>17</th>\n      <td>23.26</td>\n      <td>18.63</td>\n      <td>27.54</td>\n      <td>18.85</td>\n    </tr>\n    <tr>\n      <th>18</th>\n      <td>23.26</td>\n      <td>18.63</td>\n      <td>42.24</td>\n      <td>-19.19</td>\n    </tr>\n    <tr>\n      <th>19</th>\n      <td>23.26</td>\n      <td>18.63</td>\n      <td>7.58</td>\n      <td>26.25</td>\n    </tr>\n    <tr>\n      <th>20</th>\n      <td>23.26</td>\n      <td>18.63</td>\n      <td>-0.70</td>\n      <td>-12.32</td>\n    </tr>\n    <tr>\n      <th>21</th>\n      <td>23.26</td>\n      <td>18.63</td>\n      <td>35.15</td>\n      <td>30.03</td>\n    </tr>\n    <tr>\n      <th>22</th>\n      <td>23.26</td>\n      <td>18.63</td>\n      <td>-9.80</td>\n      <td>-46.37</td>\n    </tr>\n    <tr>\n      <th>23</th>\n      <td>23.26</td>\n      <td>18.63</td>\n      <td>-10.29</td>\n      <td>-40.46</td>\n    </tr>\n    <tr>\n      <th>24</th>\n      <td>23.26</td>\n      <td>18.63</td>\n      <td>-3.04</td>\n      <td>-26.14</td>\n    </tr>\n    <tr>\n      <th>25</th>\n      <td>0.17</td>\n      <td>-12.83</td>\n      <td>27.54</td>\n      <td>18.85</td>\n    </tr>\n    <tr>\n      <th>26</th>\n      <td>0.17</td>\n      <td>-12.83</td>\n      <td>42.24</td>\n      <td>-19.19</td>\n    </tr>\n    <tr>\n      <th>27</th>\n      <td>0.17</td>\n      <td>-12.83</td>\n      <td>7.58</td>\n      <td>26.25</td>\n    </tr>\n    <tr>\n      <th>28</th>\n      <td>0.17</td>\n      <td>-12.83</td>\n      <td>-0.70</td>\n      <td>-12.32</td>\n    </tr>\n    <tr>\n      <th>29</th>\n      <td>0.17</td>\n      <td>-12.83</td>\n      <td>35.15</td>\n      <td>30.03</td>\n    </tr>\n    <tr>\n      <th>30</th>\n      <td>0.17</td>\n      <td>-12.83</td>\n      <td>-9.80</td>\n      <td>-46.37</td>\n    </tr>\n    <tr>\n      <th>31</th>\n      <td>0.17</td>\n      <td>-12.83</td>\n      <td>-10.29</td>\n      <td>-40.46</td>\n    </tr>\n    <tr>\n      <th>32</th>\n      <td>0.17</td>\n      <td>-12.83</td>\n      <td>-3.04</td>\n      <td>-26.14</td>\n    </tr>\n    <tr>\n      <th>33</th>\n      <td>27.54</td>\n      <td>18.85</td>\n      <td>42.24</td>\n      <td>-19.19</td>\n    </tr>\n    <tr>\n      <th>34</th>\n      <td>27.54</td>\n      <td>18.85</td>\n      <td>7.58</td>\n      <td>26.25</td>\n    </tr>\n    <tr>\n      <th>35</th>\n      <td>27.54</td>\n      <td>18.85</td>\n      <td>-0.70</td>\n      <td>-12.32</td>\n    </tr>\n    <tr>\n      <th>36</th>\n      <td>27.54</td>\n      <td>18.85</td>\n      <td>35.15</td>\n      <td>30.03</td>\n    </tr>\n    <tr>\n      <th>37</th>\n      <td>27.54</td>\n      <td>18.85</td>\n      <td>-9.80</td>\n      <td>-46.37</td>\n    </tr>\n    <tr>\n      <th>38</th>\n      <td>27.54</td>\n      <td>18.85</td>\n      <td>-10.29</td>\n      <td>-40.46</td>\n    </tr>\n    <tr>\n      <th>39</th>\n      <td>27.54</td>\n      <td>18.85</td>\n      <td>-3.04</td>\n      <td>-26.14</td>\n    </tr>\n    <tr>\n      <th>40</th>\n      <td>42.24</td>\n      <td>-19.19</td>\n      <td>7.58</td>\n      <td>26.25</td>\n    </tr>\n    <tr>\n      <th>41</th>\n      <td>42.24</td>\n      <td>-19.19</td>\n      <td>-0.70</td>\n      <td>-12.32</td>\n    </tr>\n    <tr>\n      <th>42</th>\n      <td>42.24</td>\n      <td>-19.19</td>\n      <td>35.15</td>\n      <td>30.03</td>\n    </tr>\n    <tr>\n      <th>43</th>\n      <td>42.24</td>\n      <td>-19.19</td>\n      <td>-9.80</td>\n      <td>-46.37</td>\n    </tr>\n    <tr>\n      <th>44</th>\n      <td>42.24</td>\n      <td>-19.19</td>\n      <td>-10.29</td>\n      <td>-40.46</td>\n    </tr>\n    <tr>\n      <th>45</th>\n      <td>42.24</td>\n      <td>-19.19</td>\n      <td>-3.04</td>\n      <td>-26.14</td>\n    </tr>\n    <tr>\n      <th>46</th>\n      <td>7.58</td>\n      <td>26.25</td>\n      <td>-0.70</td>\n      <td>-12.32</td>\n    </tr>\n    <tr>\n      <th>47</th>\n      <td>7.58</td>\n      <td>26.25</td>\n      <td>35.15</td>\n      <td>30.03</td>\n    </tr>\n    <tr>\n      <th>48</th>\n      <td>7.58</td>\n      <td>26.25</td>\n      <td>-9.80</td>\n      <td>-46.37</td>\n    </tr>\n    <tr>\n      <th>49</th>\n      <td>7.58</td>\n      <td>26.25</td>\n      <td>-10.29</td>\n      <td>-40.46</td>\n    </tr>\n    <tr>\n      <th>50</th>\n      <td>7.58</td>\n      <td>26.25</td>\n      <td>-3.04</td>\n      <td>-26.14</td>\n    </tr>\n    <tr>\n      <th>51</th>\n      <td>-0.70</td>\n      <td>-12.32</td>\n      <td>35.15</td>\n      <td>30.03</td>\n    </tr>\n    <tr>\n      <th>52</th>\n      <td>-0.70</td>\n      <td>-12.32</td>\n      <td>-9.80</td>\n      <td>-46.37</td>\n    </tr>\n    <tr>\n      <th>53</th>\n      <td>-0.70</td>\n      <td>-12.32</td>\n      <td>-10.29</td>\n      <td>-40.46</td>\n    </tr>\n    <tr>\n      <th>54</th>\n      <td>-0.70</td>\n      <td>-12.32</td>\n      <td>-3.04</td>\n      <td>-26.14</td>\n    </tr>\n    <tr>\n      <th>55</th>\n      <td>35.15</td>\n      <td>30.03</td>\n      <td>-9.80</td>\n      <td>-46.37</td>\n    </tr>\n    <tr>\n      <th>56</th>\n      <td>35.15</td>\n      <td>30.03</td>\n      <td>-10.29</td>\n      <td>-40.46</td>\n    </tr>\n    <tr>\n      <th>57</th>\n      <td>35.15</td>\n      <td>30.03</td>\n      <td>-3.04</td>\n      <td>-26.14</td>\n    </tr>\n    <tr>\n      <th>58</th>\n      <td>-9.80</td>\n      <td>-46.37</td>\n      <td>-10.29</td>\n      <td>-40.46</td>\n    </tr>\n    <tr>\n      <th>59</th>\n      <td>-9.80</td>\n      <td>-46.37</td>\n      <td>-3.04</td>\n      <td>-26.14</td>\n    </tr>\n    <tr>\n      <th>60</th>\n      <td>-10.29</td>\n      <td>-40.46</td>\n      <td>-3.04</td>\n      <td>-26.14</td>\n    </tr>\n  </tbody>\n</table>\n</div>"
     },
     "execution_count": 3,
     "metadata": {},
     "output_type": "execute_result"
    }
   ],
   "source": [
    "couples = pd.read_csv('couples.csv',index_col=0)\n",
    "#select couple from prev_CUSTOMER_ID 3\n",
    "couples.loc[couples['prev_CUSTOMER_ID'] == 3][['prev_X_TERMINAL','prev_Y_TERMINAL','next_X_TERMINAL','next_Y_TERMINAL']]"
   ]
  },
  {
   "cell_type": "code",
   "execution_count": 2,
   "metadata": {
    "ExecuteTime": {
     "start_time": "2023-04-26T11:58:37.739548Z",
     "end_time": "2023-04-26T11:58:37.751814Z"
    }
   },
   "outputs": [],
   "source": []
  },
  {
   "cell_type": "code",
   "execution_count": null,
   "outputs": [],
   "source": [],
   "metadata": {
    "collapsed": false
   }
  }
 ],
 "metadata": {
  "kernelspec": {
   "display_name": "advo",
   "language": "python",
   "name": "python3"
  },
  "language_info": {
   "codemirror_mode": {
    "name": "ipython",
    "version": 3
   },
   "file_extension": ".py",
   "mimetype": "text/x-python",
   "name": "python",
   "nbconvert_exporter": "python",
   "pygments_lexer": "ipython3",
   "version": "3.10.9"
  },
  "orig_nbformat": 4
 },
 "nbformat": 4,
 "nbformat_minor": 2
}
