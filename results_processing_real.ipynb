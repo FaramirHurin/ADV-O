{
 "cells": [
  {
   "cell_type": "code",
   "execution_count": 52,
   "metadata": {},
   "outputs": [],
   "source": [
    "import os\n",
    "import pandas as pd\n",
    "import numpy as np\n",
    "import matplotlib.pyplot as plt\n",
    "import seaborn as sns\n",
    "import scipy.stats as stats\n",
    "import pickle\n",
    "import re\n",
    "\n",
    "#from the folders results_real load all csv files that start with dataFrame_results and put them in a dictionary with the name of the file as key\n",
    "# Path: results_processing.ipynb\n",
    "def load_results(path):\n",
    "    results = {}\n",
    "    for file in os.listdir(path):\n",
    "        if file.startswith('dataFrame_results'):\n",
    "            results[file[len(\"dataFrame_results\"):-len('.csv')]] = pd.read_csv(os.path.join(path, file))\n",
    "    return results\n",
    "\n",
    "#load the results from the folder results_real\n",
    "# Path: results_processing.ipynb\n",
    "results = load_results('results_real10days')\n",
    "\n"
   ]
  },
  {
   "cell_type": "code",
   "execution_count": 53,
   "metadata": {},
   "outputs": [
    {
     "name": "stderr",
     "output_type": "stream",
     "text": [
      "/tmp/ipykernel_18654/1114752087.py:4: FutureWarning: The default value of numeric_only in DataFrame.mean is deprecated. In a future version, it will default to False. In addition, specifying 'numeric_only=None' is deprecated. Select only valid columns or specify the value of numeric_only to silence this warning.\n",
      "  df = pd.DataFrame({'mean': dataset.mean(), 'std': dataset.std()})\n",
      "/tmp/ipykernel_18654/1114752087.py:4: FutureWarning: The default value of numeric_only in DataFrame.std is deprecated. In a future version, it will default to False. In addition, specifying 'numeric_only=None' is deprecated. Select only valid columns or specify the value of numeric_only to silence this warning.\n",
      "  df = pd.DataFrame({'mean': dataset.mean(), 'std': dataset.std()})\n",
      "/tmp/ipykernel_18654/1114752087.py:4: FutureWarning: The default value of numeric_only in DataFrame.mean is deprecated. In a future version, it will default to False. In addition, specifying 'numeric_only=None' is deprecated. Select only valid columns or specify the value of numeric_only to silence this warning.\n",
      "  df = pd.DataFrame({'mean': dataset.mean(), 'std': dataset.std()})\n",
      "/tmp/ipykernel_18654/1114752087.py:4: FutureWarning: The default value of numeric_only in DataFrame.std is deprecated. In a future version, it will default to False. In addition, specifying 'numeric_only=None' is deprecated. Select only valid columns or specify the value of numeric_only to silence this warning.\n",
      "  df = pd.DataFrame({'mean': dataset.mean(), 'std': dataset.std()})\n",
      "/tmp/ipykernel_18654/1114752087.py:4: FutureWarning: The default value of numeric_only in DataFrame.mean is deprecated. In a future version, it will default to False. In addition, specifying 'numeric_only=None' is deprecated. Select only valid columns or specify the value of numeric_only to silence this warning.\n",
      "  df = pd.DataFrame({'mean': dataset.mean(), 'std': dataset.std()})\n",
      "/tmp/ipykernel_18654/1114752087.py:4: FutureWarning: The default value of numeric_only in DataFrame.std is deprecated. In a future version, it will default to False. In addition, specifying 'numeric_only=None' is deprecated. Select only valid columns or specify the value of numeric_only to silence this warning.\n",
      "  df = pd.DataFrame({'mean': dataset.mean(), 'std': dataset.std()})\n",
      "/tmp/ipykernel_18654/1114752087.py:4: FutureWarning: The default value of numeric_only in DataFrame.mean is deprecated. In a future version, it will default to False. In addition, specifying 'numeric_only=None' is deprecated. Select only valid columns or specify the value of numeric_only to silence this warning.\n",
      "  df = pd.DataFrame({'mean': dataset.mean(), 'std': dataset.std()})\n",
      "/tmp/ipykernel_18654/1114752087.py:4: FutureWarning: The default value of numeric_only in DataFrame.std is deprecated. In a future version, it will default to False. In addition, specifying 'numeric_only=None' is deprecated. Select only valid columns or specify the value of numeric_only to silence this warning.\n",
      "  df = pd.DataFrame({'mean': dataset.mean(), 'std': dataset.std()})\n",
      "/tmp/ipykernel_18654/1114752087.py:4: FutureWarning: The default value of numeric_only in DataFrame.mean is deprecated. In a future version, it will default to False. In addition, specifying 'numeric_only=None' is deprecated. Select only valid columns or specify the value of numeric_only to silence this warning.\n",
      "  df = pd.DataFrame({'mean': dataset.mean(), 'std': dataset.std()})\n",
      "/tmp/ipykernel_18654/1114752087.py:4: FutureWarning: The default value of numeric_only in DataFrame.std is deprecated. In a future version, it will default to False. In addition, specifying 'numeric_only=None' is deprecated. Select only valid columns or specify the value of numeric_only to silence this warning.\n",
      "  df = pd.DataFrame({'mean': dataset.mean(), 'std': dataset.std()})\n",
      "/tmp/ipykernel_18654/1114752087.py:4: FutureWarning: The default value of numeric_only in DataFrame.mean is deprecated. In a future version, it will default to False. In addition, specifying 'numeric_only=None' is deprecated. Select only valid columns or specify the value of numeric_only to silence this warning.\n",
      "  df = pd.DataFrame({'mean': dataset.mean(), 'std': dataset.std()})\n",
      "/tmp/ipykernel_18654/1114752087.py:4: FutureWarning: The default value of numeric_only in DataFrame.std is deprecated. In a future version, it will default to False. In addition, specifying 'numeric_only=None' is deprecated. Select only valid columns or specify the value of numeric_only to silence this warning.\n",
      "  df = pd.DataFrame({'mean': dataset.mean(), 'std': dataset.std()})\n",
      "/tmp/ipykernel_18654/1114752087.py:4: FutureWarning: The default value of numeric_only in DataFrame.mean is deprecated. In a future version, it will default to False. In addition, specifying 'numeric_only=None' is deprecated. Select only valid columns or specify the value of numeric_only to silence this warning.\n",
      "  df = pd.DataFrame({'mean': dataset.mean(), 'std': dataset.std()})\n",
      "/tmp/ipykernel_18654/1114752087.py:4: FutureWarning: The default value of numeric_only in DataFrame.std is deprecated. In a future version, it will default to False. In addition, specifying 'numeric_only=None' is deprecated. Select only valid columns or specify the value of numeric_only to silence this warning.\n",
      "  df = pd.DataFrame({'mean': dataset.mean(), 'std': dataset.std()})\n",
      "/tmp/ipykernel_18654/1114752087.py:4: FutureWarning: The default value of numeric_only in DataFrame.mean is deprecated. In a future version, it will default to False. In addition, specifying 'numeric_only=None' is deprecated. Select only valid columns or specify the value of numeric_only to silence this warning.\n",
      "  df = pd.DataFrame({'mean': dataset.mean(), 'std': dataset.std()})\n",
      "/tmp/ipykernel_18654/1114752087.py:4: FutureWarning: The default value of numeric_only in DataFrame.std is deprecated. In a future version, it will default to False. In addition, specifying 'numeric_only=None' is deprecated. Select only valid columns or specify the value of numeric_only to silence this warning.\n",
      "  df = pd.DataFrame({'mean': dataset.mean(), 'std': dataset.std()})\n",
      "/tmp/ipykernel_18654/1114752087.py:4: FutureWarning: The default value of numeric_only in DataFrame.mean is deprecated. In a future version, it will default to False. In addition, specifying 'numeric_only=None' is deprecated. Select only valid columns or specify the value of numeric_only to silence this warning.\n",
      "  df = pd.DataFrame({'mean': dataset.mean(), 'std': dataset.std()})\n",
      "/tmp/ipykernel_18654/1114752087.py:4: FutureWarning: The default value of numeric_only in DataFrame.std is deprecated. In a future version, it will default to False. In addition, specifying 'numeric_only=None' is deprecated. Select only valid columns or specify the value of numeric_only to silence this warning.\n",
      "  df = pd.DataFrame({'mean': dataset.mean(), 'std': dataset.std()})\n",
      "/tmp/ipykernel_18654/1114752087.py:4: FutureWarning: The default value of numeric_only in DataFrame.mean is deprecated. In a future version, it will default to False. In addition, specifying 'numeric_only=None' is deprecated. Select only valid columns or specify the value of numeric_only to silence this warning.\n",
      "  df = pd.DataFrame({'mean': dataset.mean(), 'std': dataset.std()})\n",
      "/tmp/ipykernel_18654/1114752087.py:4: FutureWarning: The default value of numeric_only in DataFrame.std is deprecated. In a future version, it will default to False. In addition, specifying 'numeric_only=None' is deprecated. Select only valid columns or specify the value of numeric_only to silence this warning.\n",
      "  df = pd.DataFrame({'mean': dataset.mean(), 'std': dataset.std()})\n",
      "/tmp/ipykernel_18654/1114752087.py:4: FutureWarning: The default value of numeric_only in DataFrame.mean is deprecated. In a future version, it will default to False. In addition, specifying 'numeric_only=None' is deprecated. Select only valid columns or specify the value of numeric_only to silence this warning.\n",
      "  df = pd.DataFrame({'mean': dataset.mean(), 'std': dataset.std()})\n",
      "/tmp/ipykernel_18654/1114752087.py:4: FutureWarning: The default value of numeric_only in DataFrame.std is deprecated. In a future version, it will default to False. In addition, specifying 'numeric_only=None' is deprecated. Select only valid columns or specify the value of numeric_only to silence this warning.\n",
      "  df = pd.DataFrame({'mean': dataset.mean(), 'std': dataset.std()})\n"
     ]
    }
   ],
   "source": [
    "mean_std_dictionary = {}\n",
    "for metric, dataset in results.items():\n",
    "    #put dataset.mean and dataset.std in a dataframe with the column names mean and std\n",
    "    df = pd.DataFrame({'mean': dataset.mean(), 'std': dataset.std()})\n",
    "    df = df.round(2)\n",
    "    #put the dataframe in a dictionary with the name of the metric as key\n",
    "    mean_std_dictionary[metric] = df"
   ]
  },
  {
   "cell_type": "code",
   "execution_count": 64,
   "metadata": {},
   "outputs": [
    {
     "name": "stdout",
     "output_type": "stream",
     "text": [
      "          Baseline Baseline_balanced SMOTE Random KMeansSMOTE CTGAN TIMEGAN  \\\n",
      "              mean              mean  mean   mean        mean  mean    mean   \n",
      "F1            0.09              0.01  0.12   0.02        0.02  0.09    0.13   \n",
      "PRAUC         0.04              0.11  0.05   0.03        0.04  0.04    0.05   \n",
      "PRAUC_C       0.06              0.22  0.08   0.07        0.08  0.06    0.09   \n",
      "Pk100         0.22              0.09  0.22   0.12        0.15  0.17    0.22   \n",
      "Pk1000        0.20              0.08  0.21   0.14        0.13  0.18    0.23   \n",
      "Pk200         0.22              0.08  0.23   0.10        0.13  0.17    0.22   \n",
      "Pk2000        0.16              0.08  0.19   0.16        0.15  0.16    0.21   \n",
      "Pk50          0.24              0.06  0.23   0.14        0.16  0.15    0.20   \n",
      "Pk500         0.20              0.08  0.23   0.12        0.13  0.20    0.26   \n",
      "Precision     0.16              0.01  0.09   0.01        0.01  0.06    0.11   \n",
      "Recall        0.06              0.72  0.17   0.39        0.41  0.18    0.16   \n",
      "\n",
      "           ADVO Baseline Baseline_balanced SMOTE Random KMeansSMOTE CTGAN  \\\n",
      "           mean      std               std   std    std         std   std   \n",
      "F1         0.13     0.02              0.00  0.01   0.01        0.00  0.01   \n",
      "PRAUC      0.05     0.01              0.01  0.01   0.01        0.01  0.01   \n",
      "PRAUC_C    0.08     0.01              0.01  0.01   0.01        0.01  0.01   \n",
      "Pk100      0.22     0.08              0.02  0.06   0.06        0.05  0.04   \n",
      "Pk1000     0.22     0.03              0.01  0.06   0.01        0.02  0.05   \n",
      "Pk200      0.21     0.07              0.01  0.06   0.03        0.02  0.04   \n",
      "Pk2000     0.20     0.02              0.01  0.03   0.03        0.03  0.02   \n",
      "Pk50       0.22     0.10              0.04  0.05   0.08        0.07  0.06   \n",
      "Pk500      0.25     0.05              0.01  0.04   0.01        0.02  0.07   \n",
      "Precision  0.11     0.02              0.00  0.01   0.00        0.00  0.01   \n",
      "Recall     0.16     0.02              0.03  0.02   0.03        0.02  0.02   \n",
      "\n",
      "          TIMEGAN  ADVO  \n",
      "              std   std  \n",
      "F1           0.01  0.01  \n",
      "PRAUC        0.01  0.01  \n",
      "PRAUC_C      0.01  0.01  \n",
      "Pk100        0.05  0.05  \n",
      "Pk1000       0.05  0.03  \n",
      "Pk200        0.04  0.05  \n",
      "Pk2000       0.03  0.03  \n",
      "Pk50         0.02  0.03  \n",
      "Pk500        0.05  0.05  \n",
      "Precision    0.01  0.01  \n",
      "Recall       0.02  0.02  \n"
     ]
    }
   ],
   "source": [
    "# Combine all the dataframes into one dataframe\n",
    "df = pd.concat(mean_std_dictionary, axis=0)\n",
    "\n",
    "# Unstack the dataframe to have models as columns and (metric, mean) and (metric, std) as multi-level indexes\n",
    "unstacked_df = df.unstack()\n",
    "\n",
    "# Transpose the dataframe to have models as columns and metrics as rows\n",
    "unique_df = unstacked_df\n",
    "unique_df = unique_df.swaplevel(0, 1, axis=1).sort_index(axis=0)\n",
    "\n",
    "#reored the column putting mean and std besides\n",
    "unique_df = unique_df.reindex(['mean', 'std'], axis=1, level=1)\n",
    "\n",
    "unique_df = unique_df.reorder_levels([0, 1], axis=1)\n",
    "unique_df = unique_df.sort_index(axis=1)\n",
    "\n",
    "#save to csv\n",
    "unique_df.to_csv('real_results_10d.csv', index=True, header=True)\n"
   ]
  },
  {
   "attachments": {},
   "cell_type": "markdown",
   "metadata": {},
   "source": [
    "# Regressor scores"
   ]
  },
  {
   "cell_type": "code",
   "execution_count": 66,
   "metadata": {},
   "outputs": [],
   "source": [
    "def load_results(path):\n",
    "    results = {}\n",
    "    for file in os.listdir(path):\n",
    "        if file.startswith('regressor_scores_'):\n",
    "            results[file[len(\"regressor_scores_\"):-len('.csv')]] = pd.read_csv(os.path.join(path, file))\n",
    "    return results\n",
    "\n",
    "#load the results from the folder results_real\n",
    "# Path: results_processing.ipynb\n",
    "results = load_results('results_real10days')"
   ]
  },
  {
   "cell_type": "code",
   "execution_count": 67,
   "metadata": {},
   "outputs": [],
   "source": [
    "df = pd.concat(results.values(), keys=results.keys())"
   ]
  },
  {
   "cell_type": "code",
   "execution_count": 69,
   "metadata": {},
   "outputs": [],
   "source": [
    "grouped = df.groupby(level=1)\n",
    "\n",
    "result = grouped.agg(\n",
    "    X_TERMINAL_mean=('X_TERMINAL', np.mean),\n",
    "    X_TERMINAL_std=('X_TERMINAL', np.std),\n",
    "    Y_TERMINAL_mean=('Y_TERMINAL', np.mean),\n",
    "    Y_TERMINAL_std=('Y_TERMINAL', np.std),\n",
    "    TX_AMOUNT_mean=('TX_AMOUNT', np.mean),\n",
    "    TX_AMOUNT_std=('TX_AMOUNT', np.std),\n",
    ").reset_index(drop=True)\n"
   ]
  },
  {
   "cell_type": "code",
   "execution_count": 72,
   "metadata": {},
   "outputs": [],
   "source": [
    "result.round(2).to_csv('real_results_10d_regressors.csv', index=True, header=True)"
   ]
  }
 ],
 "metadata": {
  "kernelspec": {
   "display_name": "advo",
   "language": "python",
   "name": "python3"
  },
  "language_info": {
   "codemirror_mode": {
    "name": "ipython",
    "version": 3
   },
   "file_extension": ".py",
   "mimetype": "text/x-python",
   "name": "python",
   "nbconvert_exporter": "python",
   "pygments_lexer": "ipython3",
   "version": "3.10.9"
  },
  "orig_nbformat": 4
 },
 "nbformat": 4,
 "nbformat_minor": 2
}
