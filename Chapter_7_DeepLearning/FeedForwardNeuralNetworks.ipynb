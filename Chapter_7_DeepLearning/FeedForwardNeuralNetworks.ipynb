{
  "cells": [
    {
      "cell_type": "markdown",
      "metadata": {
        "id": "6lVqmFNktUM0"
      },
      "source": [
        "(FeedForwardNeuralNetworks)=\n",
        "# Feed-forward neural network"
      ]
    },
    {
      "cell_type": "markdown",
      "metadata": {
        "id": "MLuYuOyntUM2"
      },
      "source": [
        "As neural networks are a pillar in both the early and the recent advances of artificial intelligence, their use for credit card fraud detection is not surprising. The first examples of simple feed-forward neural networks applied to fraud detection can bring us back to the early 90s {cite}`ghosh1994credit,aleskerov1997cardwatch`. Naturally, in recent FDS studies, neural networks are often found in experimental benchmarks, along with random forests, XGBoost, or logistic regression.\n",
        "\n",
        "At the core of a feed-forward neural network is the artificial neuron, a simple machine learning model that consists of a linear combination of input variables followed by the application of an activation function $\\sigma$ (sigmoid, ReLU, tanh, ...). More precisely, given a list of $n$ input variables $x_i$, the output $h$ of the artificial neuron is computed as follows:\n",
        "\n",
        "$h = \\sigma(\\sum_{i=1}^n w_i*x_i)$\n",
        "\n",
        "where $w_i$ are the weights of the model.\n",
        "\n",
        "A whole network is composed of a succession of layers containing neurons that take, as inputs, the output values of the previous layer.\n",
        "\n",
        "![A feed forward neural network architecture](https://github.com/Fraud-Detection-Handbook/fraud-detection-handbook/blob/main/Chapter_7_DeepLearning/images/neuralnetwork.png?raw=1)\n",
        "\n",
        "When applied to the fraud detection problem, the architecture is designed as follows:\n",
        "\n",
        "* At the beginning of the network, the neurons take as input the characteristics of a credit card transaction, i.e. the features that were defined in the previous chapters.\n",
        "* At the end, the network outputs a single neuron that aims at representing the probability for the input transaction to be a fraud."
      ]
    },
    {
      "cell_type": "markdown",
      "metadata": {
        "id": "VRALxYNPtUM3"
      },
      "source": [
        "The rest of the architecture (other layers), the neurons specificity (activation functions), and other hyperparameters (optimization, data processing, ...) are left to the practitioner's choice.\n",
        "\n",
        "The most popular training algorithm for feedforward architectures is backpropagation {cite}`hecht1992theory`. The idea is to iterate over all samples of the dataset and perform two key operations:\n",
        "* the forward pass: setting the sample's features values in the input neurons and computing all the layers to finally obtain a predicted output.\n",
        "* the backward pass: computing a cost function, i.e. a discrepancy between the prediction and the expected ground truth output, and trying to minimize it with an optimizer (e.g. gradient descent) by updating weights layer after layer, from output to input.\n",
        "\n",
        "This section covers the design of a feed-foward neural network for fraud detection. It describes how to:\n",
        "* Implement a first simple neural network and study the impact of several architectures and design choices.\n",
        "* Wrap it to make it compatible with the model selection methodology from Chapter 5 and run a grid-search to select its optimal parameters.\n",
        "* Store the important functions for a final comparison between deep learning techniques and other baselines at the end of the chapter."
      ]
    },
    {
      "cell_type": "markdown",
      "metadata": {
        "id": "wtNyI2XXtUM3"
      },
      "source": [
        "Let us first start by importing all the necessary libraries and functions and retrieving the simulated data."
      ]
    },
    {
      "cell_type": "code",
      "execution_count": 65,
      "metadata": {
        "scrolled": true,
        "tags": [
          "hide-cell"
        ],
        "colab": {
          "base_uri": "https://localhost:8080/",
          "height": 86
        },
        "id": "VbSEOaSKtUM3",
        "outputId": "83f2dec1-f724-4590-b485-feece1e88e6a"
      },
      "outputs": [
        {
          "output_type": "stream",
          "name": "stdout",
          "text": [
            "  % Total    % Received % Xferd  Average Speed   Time    Time     Time  Current\n",
            "                                 Dload  Upload   Total   Spent    Left  Speed\n",
            "100 63257  100 63257    0     0   128k      0 --:--:-- --:--:-- --:--:--  128k\n"
          ]
        },
        {
          "output_type": "display_data",
          "data": {
            "text/plain": [
              "<Figure size 640x480 with 0 Axes>"
            ]
          },
          "metadata": {}
        }
      ],
      "source": [
        "# Initialization: Load shared functions and simulated data\n",
        "\n",
        "# Load shared functions\n",
        "!curl -O https://raw.githubusercontent.com/Fraud-Detection-Handbook/fraud-detection-handbook/main/Chapter_References/shared_functions.py\n",
        "%run shared_functions.py\n",
        "\n",
        "# Get simulated data from Github repository\n",
        "if not os.path.exists(\"simulated-data-transformed\"):\n",
        "    !git clone https://github.com/Fraud-Detection-Handbook/simulated-data-transformed"
      ]
    },
    {
      "cell_type": "markdown",
      "metadata": {
        "id": "ZaUdE4ivtUM4"
      },
      "source": [
        "## Data Loading"
      ]
    },
    {
      "cell_type": "markdown",
      "metadata": {
        "id": "ags-iQBXtUM5"
      },
      "source": [
        "The experimental setup is the same as in Chapter 5. More precisely, at the end of the chapter, model selection will be based on a grid search with multiple validations. Each time, one week of data will be used for training a neural network and one week of data for testing the predictions.\n",
        "\n",
        "To implement the first base network and explore several architecture choices, let us start by selecting a training and validation period arbitrarily. The experiments will be based on the transformed simulated data (`simulated-data-transformed/data/`) and the same feature set as other models."
      ]
    },
    {
      "cell_type": "code",
      "execution_count": 66,
      "metadata": {
        "colab": {
          "base_uri": "https://localhost:8080/"
        },
        "id": "WSWGjEUetUM5",
        "outputId": "fd771e96-d419-4398-ecca-fd9f6d7d7de9"
      },
      "outputs": [
        {
          "output_type": "stream",
          "name": "stdout",
          "text": [
            "Load  files\n",
            "CPU times: user 430 ms, sys: 764 ms, total: 1.19 s\n",
            "Wall time: 1.19 s\n",
            "919767 transactions loaded, containing 8195 fraudulent transactions\n"
          ]
        }
      ],
      "source": [
        "DIR_INPUT='simulated-data-transformed/data/'\n",
        "\n",
        "BEGIN_DATE = \"2018-06-11\"\n",
        "END_DATE = \"2018-09-14\"\n",
        "\n",
        "print(\"Load  files\")\n",
        "%time transactions_df=read_from_files(DIR_INPUT, BEGIN_DATE, END_DATE)\n",
        "print(\"{0} transactions loaded, containing {1} fraudulent transactions\".format(len(transactions_df),transactions_df.TX_FRAUD.sum()))\n",
        "\n",
        "output_feature=\"TX_FRAUD\"\n",
        "\n",
        "input_features=['TX_AMOUNT','TX_DURING_WEEKEND', 'TX_DURING_NIGHT', 'CUSTOMER_ID_NB_TX_1DAY_WINDOW',\n",
        "       'CUSTOMER_ID_AVG_AMOUNT_1DAY_WINDOW', 'CUSTOMER_ID_NB_TX_7DAY_WINDOW',\n",
        "       'CUSTOMER_ID_AVG_AMOUNT_7DAY_WINDOW', 'CUSTOMER_ID_NB_TX_30DAY_WINDOW',\n",
        "       'CUSTOMER_ID_AVG_AMOUNT_30DAY_WINDOW', 'TERMINAL_ID_NB_TX_1DAY_WINDOW',\n",
        "       'TERMINAL_ID_RISK_1DAY_WINDOW', 'TERMINAL_ID_NB_TX_7DAY_WINDOW',\n",
        "       'TERMINAL_ID_RISK_7DAY_WINDOW', 'TERMINAL_ID_NB_TX_30DAY_WINDOW',\n",
        "       'TERMINAL_ID_RISK_30DAY_WINDOW']"
      ]
    },
    {
      "cell_type": "code",
      "execution_count": 67,
      "metadata": {
        "id": "TIwPVKIttUM5"
      },
      "outputs": [],
      "source": [
        "# Setting the starting day for the training period, and the deltas\n",
        "start_date_training = datetime.datetime.strptime(\"2018-07-25\", \"%Y-%m-%d\")\n",
        "delta_train=7\n",
        "delta_delay=7\n",
        "delta_test=7\n",
        "(train_df, test_df)=get_train_test_set(transactions_df,start_date_training,\n",
        "                                       delta_train=delta_train,delta_delay=delta_delay,delta_test=delta_test)\n",
        "# By default, scaling the input data\n",
        "(train_df, test_df)=scaleData(train_df,test_df,input_features)"
      ]
    },
    {
      "cell_type": "code",
      "source": [
        "train_df.head()"
      ],
      "metadata": {
        "colab": {
          "base_uri": "https://localhost:8080/",
          "height": 342
        },
        "id": "z5PAqWqCCw5U",
        "outputId": "0ce5f5bb-b308-45d7-cea0-e62dfc84cf21"
      },
      "execution_count": 68,
      "outputs": [
        {
          "output_type": "execute_result",
          "data": {
            "text/plain": [
              "        TRANSACTION_ID         TX_DATETIME  CUSTOMER_ID  TERMINAL_ID  \\\n",
              "421597         1102483 2018-07-25 00:00:29         1111         2328   \n",
              "421598         1102484 2018-07-25 00:01:08          676         6846   \n",
              "421599         1102485 2018-07-25 00:01:35          402         4771   \n",
              "421600         1102486 2018-07-25 00:01:43         4218          863   \n",
              "421601         1102487 2018-07-25 00:02:26         3711         3599   \n",
              "\n",
              "        TX_AMOUNT  TX_TIME_SECONDS  TX_TIME_DAYS  TX_FRAUD  TX_FRAUD_SCENARIO  \\\n",
              "421597  -0.303663          9936029           115         0                  0   \n",
              "421598  -1.042495          9936068           115         0                  0   \n",
              "421599   0.663578          9936095           115         0                  0   \n",
              "421600  -0.722769          9936103           115         0                  0   \n",
              "421601   0.134655          9936146           115         0                  0   \n",
              "\n",
              "        TX_DURING_WEEKEND  ...  CUSTOMER_ID_NB_TX_7DAY_WINDOW  \\\n",
              "421597           -0.62823  ...                       0.655714   \n",
              "421598           -0.62823  ...                      -0.510235   \n",
              "421599           -0.62823  ...                      -1.028434   \n",
              "421600           -0.62823  ...                       0.655714   \n",
              "421601           -0.62823  ...                       1.044364   \n",
              "\n",
              "        CUSTOMER_ID_AVG_AMOUNT_7DAY_WINDOW  CUSTOMER_ID_NB_TX_30DAY_WINDOW  \\\n",
              "421597                           -0.800291                        0.934422   \n",
              "421598                           -1.129245                       -0.585080   \n",
              "421599                            4.267868                       -0.964955   \n",
              "421600                           -1.062067                        0.520012   \n",
              "421601                            0.878439                        1.107093   \n",
              "\n",
              "        CUSTOMER_ID_AVG_AMOUNT_30DAY_WINDOW  TERMINAL_ID_NB_TX_1DAY_WINDOW  \\\n",
              "421597                            -0.801283                       0.000248   \n",
              "421598                            -1.206503                       0.980006   \n",
              "421599                             1.988988                      -0.979511   \n",
              "421600                            -1.147390                       0.980006   \n",
              "421601                             0.699063                       0.000248   \n",
              "\n",
              "        TERMINAL_ID_RISK_1DAY_WINDOW  TERMINAL_ID_NB_TX_7DAY_WINDOW  \\\n",
              "421597                     -0.075836                       1.005829   \n",
              "421598                     -0.075836                      -0.664368   \n",
              "421599                     -0.075836                       1.673908   \n",
              "421600                     -0.075836                      -0.330328   \n",
              "421601                     -0.075836                       1.005829   \n",
              "\n",
              "        TERMINAL_ID_RISK_7DAY_WINDOW  TERMINAL_ID_NB_TX_30DAY_WINDOW  \\\n",
              "421597                      -0.11808                        0.241363   \n",
              "421598                      -0.11808                       -0.363745   \n",
              "421599                      -0.11808                        0.846470   \n",
              "421600                      -0.11808                       -0.968852   \n",
              "421601                      -0.11808                        0.967491   \n",
              "\n",
              "        TERMINAL_ID_RISK_30DAY_WINDOW  \n",
              "421597                      -0.147825  \n",
              "421598                      -0.147825  \n",
              "421599                      -0.147825  \n",
              "421600                      -0.147825  \n",
              "421601                      -0.147825  \n",
              "\n",
              "[5 rows x 23 columns]"
            ],
            "text/html": [
              "\n",
              "  <div id=\"df-4058e82e-0cc5-4e51-9604-8a5a57fd2432\" class=\"colab-df-container\">\n",
              "    <div>\n",
              "<style scoped>\n",
              "    .dataframe tbody tr th:only-of-type {\n",
              "        vertical-align: middle;\n",
              "    }\n",
              "\n",
              "    .dataframe tbody tr th {\n",
              "        vertical-align: top;\n",
              "    }\n",
              "\n",
              "    .dataframe thead th {\n",
              "        text-align: right;\n",
              "    }\n",
              "</style>\n",
              "<table border=\"1\" class=\"dataframe\">\n",
              "  <thead>\n",
              "    <tr style=\"text-align: right;\">\n",
              "      <th></th>\n",
              "      <th>TRANSACTION_ID</th>\n",
              "      <th>TX_DATETIME</th>\n",
              "      <th>CUSTOMER_ID</th>\n",
              "      <th>TERMINAL_ID</th>\n",
              "      <th>TX_AMOUNT</th>\n",
              "      <th>TX_TIME_SECONDS</th>\n",
              "      <th>TX_TIME_DAYS</th>\n",
              "      <th>TX_FRAUD</th>\n",
              "      <th>TX_FRAUD_SCENARIO</th>\n",
              "      <th>TX_DURING_WEEKEND</th>\n",
              "      <th>...</th>\n",
              "      <th>CUSTOMER_ID_NB_TX_7DAY_WINDOW</th>\n",
              "      <th>CUSTOMER_ID_AVG_AMOUNT_7DAY_WINDOW</th>\n",
              "      <th>CUSTOMER_ID_NB_TX_30DAY_WINDOW</th>\n",
              "      <th>CUSTOMER_ID_AVG_AMOUNT_30DAY_WINDOW</th>\n",
              "      <th>TERMINAL_ID_NB_TX_1DAY_WINDOW</th>\n",
              "      <th>TERMINAL_ID_RISK_1DAY_WINDOW</th>\n",
              "      <th>TERMINAL_ID_NB_TX_7DAY_WINDOW</th>\n",
              "      <th>TERMINAL_ID_RISK_7DAY_WINDOW</th>\n",
              "      <th>TERMINAL_ID_NB_TX_30DAY_WINDOW</th>\n",
              "      <th>TERMINAL_ID_RISK_30DAY_WINDOW</th>\n",
              "    </tr>\n",
              "  </thead>\n",
              "  <tbody>\n",
              "    <tr>\n",
              "      <th>421597</th>\n",
              "      <td>1102483</td>\n",
              "      <td>2018-07-25 00:00:29</td>\n",
              "      <td>1111</td>\n",
              "      <td>2328</td>\n",
              "      <td>-0.303663</td>\n",
              "      <td>9936029</td>\n",
              "      <td>115</td>\n",
              "      <td>0</td>\n",
              "      <td>0</td>\n",
              "      <td>-0.62823</td>\n",
              "      <td>...</td>\n",
              "      <td>0.655714</td>\n",
              "      <td>-0.800291</td>\n",
              "      <td>0.934422</td>\n",
              "      <td>-0.801283</td>\n",
              "      <td>0.000248</td>\n",
              "      <td>-0.075836</td>\n",
              "      <td>1.005829</td>\n",
              "      <td>-0.11808</td>\n",
              "      <td>0.241363</td>\n",
              "      <td>-0.147825</td>\n",
              "    </tr>\n",
              "    <tr>\n",
              "      <th>421598</th>\n",
              "      <td>1102484</td>\n",
              "      <td>2018-07-25 00:01:08</td>\n",
              "      <td>676</td>\n",
              "      <td>6846</td>\n",
              "      <td>-1.042495</td>\n",
              "      <td>9936068</td>\n",
              "      <td>115</td>\n",
              "      <td>0</td>\n",
              "      <td>0</td>\n",
              "      <td>-0.62823</td>\n",
              "      <td>...</td>\n",
              "      <td>-0.510235</td>\n",
              "      <td>-1.129245</td>\n",
              "      <td>-0.585080</td>\n",
              "      <td>-1.206503</td>\n",
              "      <td>0.980006</td>\n",
              "      <td>-0.075836</td>\n",
              "      <td>-0.664368</td>\n",
              "      <td>-0.11808</td>\n",
              "      <td>-0.363745</td>\n",
              "      <td>-0.147825</td>\n",
              "    </tr>\n",
              "    <tr>\n",
              "      <th>421599</th>\n",
              "      <td>1102485</td>\n",
              "      <td>2018-07-25 00:01:35</td>\n",
              "      <td>402</td>\n",
              "      <td>4771</td>\n",
              "      <td>0.663578</td>\n",
              "      <td>9936095</td>\n",
              "      <td>115</td>\n",
              "      <td>0</td>\n",
              "      <td>0</td>\n",
              "      <td>-0.62823</td>\n",
              "      <td>...</td>\n",
              "      <td>-1.028434</td>\n",
              "      <td>4.267868</td>\n",
              "      <td>-0.964955</td>\n",
              "      <td>1.988988</td>\n",
              "      <td>-0.979511</td>\n",
              "      <td>-0.075836</td>\n",
              "      <td>1.673908</td>\n",
              "      <td>-0.11808</td>\n",
              "      <td>0.846470</td>\n",
              "      <td>-0.147825</td>\n",
              "    </tr>\n",
              "    <tr>\n",
              "      <th>421600</th>\n",
              "      <td>1102486</td>\n",
              "      <td>2018-07-25 00:01:43</td>\n",
              "      <td>4218</td>\n",
              "      <td>863</td>\n",
              "      <td>-0.722769</td>\n",
              "      <td>9936103</td>\n",
              "      <td>115</td>\n",
              "      <td>0</td>\n",
              "      <td>0</td>\n",
              "      <td>-0.62823</td>\n",
              "      <td>...</td>\n",
              "      <td>0.655714</td>\n",
              "      <td>-1.062067</td>\n",
              "      <td>0.520012</td>\n",
              "      <td>-1.147390</td>\n",
              "      <td>0.980006</td>\n",
              "      <td>-0.075836</td>\n",
              "      <td>-0.330328</td>\n",
              "      <td>-0.11808</td>\n",
              "      <td>-0.968852</td>\n",
              "      <td>-0.147825</td>\n",
              "    </tr>\n",
              "    <tr>\n",
              "      <th>421601</th>\n",
              "      <td>1102487</td>\n",
              "      <td>2018-07-25 00:02:26</td>\n",
              "      <td>3711</td>\n",
              "      <td>3599</td>\n",
              "      <td>0.134655</td>\n",
              "      <td>9936146</td>\n",
              "      <td>115</td>\n",
              "      <td>0</td>\n",
              "      <td>0</td>\n",
              "      <td>-0.62823</td>\n",
              "      <td>...</td>\n",
              "      <td>1.044364</td>\n",
              "      <td>0.878439</td>\n",
              "      <td>1.107093</td>\n",
              "      <td>0.699063</td>\n",
              "      <td>0.000248</td>\n",
              "      <td>-0.075836</td>\n",
              "      <td>1.005829</td>\n",
              "      <td>-0.11808</td>\n",
              "      <td>0.967491</td>\n",
              "      <td>-0.147825</td>\n",
              "    </tr>\n",
              "  </tbody>\n",
              "</table>\n",
              "<p>5 rows × 23 columns</p>\n",
              "</div>\n",
              "    <div class=\"colab-df-buttons\">\n",
              "\n",
              "  <div class=\"colab-df-container\">\n",
              "    <button class=\"colab-df-convert\" onclick=\"convertToInteractive('df-4058e82e-0cc5-4e51-9604-8a5a57fd2432')\"\n",
              "            title=\"Convert this dataframe to an interactive table.\"\n",
              "            style=\"display:none;\">\n",
              "\n",
              "  <svg xmlns=\"http://www.w3.org/2000/svg\" height=\"24px\" viewBox=\"0 -960 960 960\">\n",
              "    <path d=\"M120-120v-720h720v720H120Zm60-500h600v-160H180v160Zm220 220h160v-160H400v160Zm0 220h160v-160H400v160ZM180-400h160v-160H180v160Zm440 0h160v-160H620v160ZM180-180h160v-160H180v160Zm440 0h160v-160H620v160Z\"/>\n",
              "  </svg>\n",
              "    </button>\n",
              "\n",
              "  <style>\n",
              "    .colab-df-container {\n",
              "      display:flex;\n",
              "      gap: 12px;\n",
              "    }\n",
              "\n",
              "    .colab-df-convert {\n",
              "      background-color: #E8F0FE;\n",
              "      border: none;\n",
              "      border-radius: 50%;\n",
              "      cursor: pointer;\n",
              "      display: none;\n",
              "      fill: #1967D2;\n",
              "      height: 32px;\n",
              "      padding: 0 0 0 0;\n",
              "      width: 32px;\n",
              "    }\n",
              "\n",
              "    .colab-df-convert:hover {\n",
              "      background-color: #E2EBFA;\n",
              "      box-shadow: 0px 1px 2px rgba(60, 64, 67, 0.3), 0px 1px 3px 1px rgba(60, 64, 67, 0.15);\n",
              "      fill: #174EA6;\n",
              "    }\n",
              "\n",
              "    .colab-df-buttons div {\n",
              "      margin-bottom: 4px;\n",
              "    }\n",
              "\n",
              "    [theme=dark] .colab-df-convert {\n",
              "      background-color: #3B4455;\n",
              "      fill: #D2E3FC;\n",
              "    }\n",
              "\n",
              "    [theme=dark] .colab-df-convert:hover {\n",
              "      background-color: #434B5C;\n",
              "      box-shadow: 0px 1px 3px 1px rgba(0, 0, 0, 0.15);\n",
              "      filter: drop-shadow(0px 1px 2px rgba(0, 0, 0, 0.3));\n",
              "      fill: #FFFFFF;\n",
              "    }\n",
              "  </style>\n",
              "\n",
              "    <script>\n",
              "      const buttonEl =\n",
              "        document.querySelector('#df-4058e82e-0cc5-4e51-9604-8a5a57fd2432 button.colab-df-convert');\n",
              "      buttonEl.style.display =\n",
              "        google.colab.kernel.accessAllowed ? 'block' : 'none';\n",
              "\n",
              "      async function convertToInteractive(key) {\n",
              "        const element = document.querySelector('#df-4058e82e-0cc5-4e51-9604-8a5a57fd2432');\n",
              "        const dataTable =\n",
              "          await google.colab.kernel.invokeFunction('convertToInteractive',\n",
              "                                                    [key], {});\n",
              "        if (!dataTable) return;\n",
              "\n",
              "        const docLinkHtml = 'Like what you see? Visit the ' +\n",
              "          '<a target=\"_blank\" href=https://colab.research.google.com/notebooks/data_table.ipynb>data table notebook</a>'\n",
              "          + ' to learn more about interactive tables.';\n",
              "        element.innerHTML = '';\n",
              "        dataTable['output_type'] = 'display_data';\n",
              "        await google.colab.output.renderOutput(dataTable, element);\n",
              "        const docLink = document.createElement('div');\n",
              "        docLink.innerHTML = docLinkHtml;\n",
              "        element.appendChild(docLink);\n",
              "      }\n",
              "    </script>\n",
              "  </div>\n",
              "\n",
              "\n",
              "<div id=\"df-4db814c6-d9d5-4707-95fb-2b3f786db56f\">\n",
              "  <button class=\"colab-df-quickchart\" onclick=\"quickchart('df-4db814c6-d9d5-4707-95fb-2b3f786db56f')\"\n",
              "            title=\"Suggest charts\"\n",
              "            style=\"display:none;\">\n",
              "\n",
              "<svg xmlns=\"http://www.w3.org/2000/svg\" height=\"24px\"viewBox=\"0 0 24 24\"\n",
              "     width=\"24px\">\n",
              "    <g>\n",
              "        <path d=\"M19 3H5c-1.1 0-2 .9-2 2v14c0 1.1.9 2 2 2h14c1.1 0 2-.9 2-2V5c0-1.1-.9-2-2-2zM9 17H7v-7h2v7zm4 0h-2V7h2v10zm4 0h-2v-4h2v4z\"/>\n",
              "    </g>\n",
              "</svg>\n",
              "  </button>\n",
              "\n",
              "<style>\n",
              "  .colab-df-quickchart {\n",
              "      --bg-color: #E8F0FE;\n",
              "      --fill-color: #1967D2;\n",
              "      --hover-bg-color: #E2EBFA;\n",
              "      --hover-fill-color: #174EA6;\n",
              "      --disabled-fill-color: #AAA;\n",
              "      --disabled-bg-color: #DDD;\n",
              "  }\n",
              "\n",
              "  [theme=dark] .colab-df-quickchart {\n",
              "      --bg-color: #3B4455;\n",
              "      --fill-color: #D2E3FC;\n",
              "      --hover-bg-color: #434B5C;\n",
              "      --hover-fill-color: #FFFFFF;\n",
              "      --disabled-bg-color: #3B4455;\n",
              "      --disabled-fill-color: #666;\n",
              "  }\n",
              "\n",
              "  .colab-df-quickchart {\n",
              "    background-color: var(--bg-color);\n",
              "    border: none;\n",
              "    border-radius: 50%;\n",
              "    cursor: pointer;\n",
              "    display: none;\n",
              "    fill: var(--fill-color);\n",
              "    height: 32px;\n",
              "    padding: 0;\n",
              "    width: 32px;\n",
              "  }\n",
              "\n",
              "  .colab-df-quickchart:hover {\n",
              "    background-color: var(--hover-bg-color);\n",
              "    box-shadow: 0 1px 2px rgba(60, 64, 67, 0.3), 0 1px 3px 1px rgba(60, 64, 67, 0.15);\n",
              "    fill: var(--button-hover-fill-color);\n",
              "  }\n",
              "\n",
              "  .colab-df-quickchart-complete:disabled,\n",
              "  .colab-df-quickchart-complete:disabled:hover {\n",
              "    background-color: var(--disabled-bg-color);\n",
              "    fill: var(--disabled-fill-color);\n",
              "    box-shadow: none;\n",
              "  }\n",
              "\n",
              "  .colab-df-spinner {\n",
              "    border: 2px solid var(--fill-color);\n",
              "    border-color: transparent;\n",
              "    border-bottom-color: var(--fill-color);\n",
              "    animation:\n",
              "      spin 1s steps(1) infinite;\n",
              "  }\n",
              "\n",
              "  @keyframes spin {\n",
              "    0% {\n",
              "      border-color: transparent;\n",
              "      border-bottom-color: var(--fill-color);\n",
              "      border-left-color: var(--fill-color);\n",
              "    }\n",
              "    20% {\n",
              "      border-color: transparent;\n",
              "      border-left-color: var(--fill-color);\n",
              "      border-top-color: var(--fill-color);\n",
              "    }\n",
              "    30% {\n",
              "      border-color: transparent;\n",
              "      border-left-color: var(--fill-color);\n",
              "      border-top-color: var(--fill-color);\n",
              "      border-right-color: var(--fill-color);\n",
              "    }\n",
              "    40% {\n",
              "      border-color: transparent;\n",
              "      border-right-color: var(--fill-color);\n",
              "      border-top-color: var(--fill-color);\n",
              "    }\n",
              "    60% {\n",
              "      border-color: transparent;\n",
              "      border-right-color: var(--fill-color);\n",
              "    }\n",
              "    80% {\n",
              "      border-color: transparent;\n",
              "      border-right-color: var(--fill-color);\n",
              "      border-bottom-color: var(--fill-color);\n",
              "    }\n",
              "    90% {\n",
              "      border-color: transparent;\n",
              "      border-bottom-color: var(--fill-color);\n",
              "    }\n",
              "  }\n",
              "</style>\n",
              "\n",
              "  <script>\n",
              "    async function quickchart(key) {\n",
              "      const quickchartButtonEl =\n",
              "        document.querySelector('#' + key + ' button');\n",
              "      quickchartButtonEl.disabled = true;  // To prevent multiple clicks.\n",
              "      quickchartButtonEl.classList.add('colab-df-spinner');\n",
              "      try {\n",
              "        const charts = await google.colab.kernel.invokeFunction(\n",
              "            'suggestCharts', [key], {});\n",
              "      } catch (error) {\n",
              "        console.error('Error during call to suggestCharts:', error);\n",
              "      }\n",
              "      quickchartButtonEl.classList.remove('colab-df-spinner');\n",
              "      quickchartButtonEl.classList.add('colab-df-quickchart-complete');\n",
              "    }\n",
              "    (() => {\n",
              "      let quickchartButtonEl =\n",
              "        document.querySelector('#df-4db814c6-d9d5-4707-95fb-2b3f786db56f button');\n",
              "      quickchartButtonEl.style.display =\n",
              "        google.colab.kernel.accessAllowed ? 'block' : 'none';\n",
              "    })();\n",
              "  </script>\n",
              "</div>\n",
              "\n",
              "    </div>\n",
              "  </div>\n"
            ],
            "application/vnd.google.colaboratory.intrinsic+json": {
              "type": "dataframe",
              "variable_name": "train_df"
            }
          },
          "metadata": {},
          "execution_count": 68
        }
      ]
    },
    {
      "cell_type": "markdown",
      "metadata": {
        "id": "cL6qsXfOtUM6"
      },
      "source": [
        "## Overview of the neural network pipeline"
      ]
    },
    {
      "cell_type": "markdown",
      "metadata": {
        "id": "U_fz2zTdtUM6"
      },
      "source": [
        "The first step here is to implement a base neural network. There are several Python libraries that we can use (TensorFlow, PyTorch, Keras, MXNet, ...). In this book, the PyTorch library {cite}`paszke2017automatic` is used, but the models and benchmarks that will be developed could also be implemented with other libraries."
      ]
    },
    {
      "cell_type": "code",
      "execution_count": 69,
      "metadata": {
        "id": "C7Kes7xXtUM6"
      },
      "outputs": [],
      "source": [
        "import torch"
      ]
    },
    {
      "cell_type": "markdown",
      "metadata": {
        "id": "Z0S2lSowtUM6"
      },
      "source": [
        "If torch and cuda libraries are installed properly, the models developed in this chapter can be trained on the GPU. For that, let us create a \"DEVICE\" variable and set it to \"cuda\" if a cuda device is available and \"cpu\" otherwise. In the rest of the chapter, all the models and tensors will be sent to this device for computations."
      ]
    },
    {
      "cell_type": "code",
      "execution_count": 70,
      "metadata": {
        "colab": {
          "base_uri": "https://localhost:8080/"
        },
        "id": "A1fA1vketUM6",
        "outputId": "2d9bb134-1f30-4139-b586-eb9f9940f170"
      },
      "outputs": [
        {
          "output_type": "stream",
          "name": "stdout",
          "text": [
            "Selected device is cpu\n"
          ]
        }
      ],
      "source": [
        "if torch.cuda.is_available():\n",
        "    DEVICE = \"cuda\"\n",
        "else:\n",
        "    DEVICE = \"cpu\"\n",
        "print(\"Selected device is\",DEVICE)"
      ]
    },
    {
      "cell_type": "markdown",
      "metadata": {
        "id": "EU2aV78LtUM7"
      },
      "source": [
        "To ensure reproducibility, a random seed will be fixed like in previous chapters. Additionally to setting the seed for `NumPy` and `random`, it is necessary to set it for `torch`:"
      ]
    },
    {
      "cell_type": "code",
      "execution_count": 71,
      "metadata": {
        "id": "VcDA5ngQtUM7"
      },
      "outputs": [],
      "source": [
        "SEED = 42\n",
        "\n",
        "def seed_everything(seed):\n",
        "    random.seed(seed)\n",
        "    os.environ['PYTHONHASHSEED'] = str(seed)\n",
        "    np.random.seed(seed)\n",
        "    torch.manual_seed(seed)\n",
        "    torch.cuda.manual_seed(seed)\n",
        "    torch.backends.cudnn.deterministic = True\n",
        "    torch.backends.cudnn.benchmark = True\n",
        "\n",
        "seed_everything(SEED)"
      ]
    },
    {
      "cell_type": "markdown",
      "metadata": {
        "id": "6QqYaTOztUM7"
      },
      "source": [
        "The function `seed_everything` defined above will be run before each model initialization and training."
      ]
    },
    {
      "cell_type": "markdown",
      "metadata": {
        "id": "HV9LaAn5tUM7"
      },
      "source": [
        "Before diving into the neural network implementation, let us summarize the main elements of a deep learning training/testing pipeline in Torch:\n",
        "* Datasets/Dataloaders: It is recommended to manipulate data with specific PyTorch classes. [Dataset](https://pytorch.org/docs/stable/data.html?highlight=dataset#torch.utils.data.Dataset) is the interface to access the data. Given a sample's index, it provides a well-formed input-output for the model. [Dataloader](https://pytorch.org/docs/stable/data.html?highlight=dataloader#torch.utils.data.DataLoader) takes the Dataset as input and provides an iterator for the training loop. It also allows to create batches, shuffle data, and parallelize data preparation.\n",
        "* Model/Module: Any model in PyTorch is a [torch.module](https://pytorch.org/docs/stable/generated/torch.nn.Module.html). It has an init function in which it instantiates all the necessary submodules (layers) and initializes their weights. It also has a forward function that defines all the operations of the forward pass.\n",
        "* The optimizer: The [optimizer](https://pytorch.org/docs/stable/optim.html) is the object that implements the optimization algorithm. It is called after the loss is computed to calculate the necessary model updates. The most basic one is SGD, but there are many others like RMSProp, Adagrad, Adam, ...\n",
        "* Training loop and evaluation: the training loop is the core of a model's training. It consists in performing several iterations (epochs), getting all the training batches from the loader, performing the forward pass, computing the loss, and calling the optimizer. After each epoch, an evaluation can be performed to track the model's evolution and possibly stop the process.\n",
        "\n",
        "The next subsections describe and implement in details each of these elements."
      ]
    },
    {
      "cell_type": "markdown",
      "metadata": {
        "id": "Oy_EsNdqtUM7"
      },
      "source": [
        "### Data management: Datasets and Dataloaders"
      ]
    },
    {
      "cell_type": "markdown",
      "metadata": {
        "id": "D478faOhtUM7"
      },
      "source": [
        "The first step is to convert our data into objects that PyTorch can use, like `FloatTensors`."
      ]
    },
    {
      "cell_type": "code",
      "execution_count": 72,
      "metadata": {
        "id": "la2QCzHYtUM7"
      },
      "outputs": [],
      "source": [
        "x_train = torch.FloatTensor(train_df[input_features].values)\n",
        "x_test = torch.FloatTensor(test_df[input_features].values)\n",
        "y_train = torch.FloatTensor(train_df[output_feature].values)\n",
        "y_test = torch.FloatTensor(test_df[output_feature].values)"
      ]
    },
    {
      "cell_type": "markdown",
      "metadata": {
        "id": "SsA9ZWMKtUM7"
      },
      "source": [
        "Next comes the definition of a custom `Dataset`. This dataset is initialized with `x_train`/`x_test` and `y_train`/`y_test` and returns the individual samples in the format required by our model, after sending them to the right device."
      ]
    },
    {
      "cell_type": "code",
      "execution_count": 73,
      "metadata": {
        "id": "VLghLxr1tUM7"
      },
      "outputs": [],
      "source": [
        "class FraudDataset(torch.utils.data.Dataset):\n",
        "\n",
        "    def __init__(self, x, y):\n",
        "        'Initialization'\n",
        "        self.x = x\n",
        "        self.y = y\n",
        "\n",
        "    def __len__(self):\n",
        "        'Returns the total number of samples'\n",
        "        return len(self.x)\n",
        "\n",
        "    def __getitem__(self, index):\n",
        "        'Generates one sample of data'\n",
        "        # Select sample index\n",
        "        if self.y is not None:\n",
        "            return self.x[index].to(DEVICE), self.y[index].to(DEVICE)\n",
        "        else:\n",
        "            return self.x[index].to(DEVICE)"
      ]
    },
    {
      "cell_type": "markdown",
      "metadata": {
        "id": "7qySNFWDtUM8"
      },
      "source": [
        "Note: This first custom Dataset `FraudDataset` seems useless because its role is very limited (simply returning a row from x and y) and because the matrices x and y are already loaded in RAM. This example is provided for educational purposes. But the concept of Dataset has a high interest when sample preparation requires more preprocessing. For instance, it becomes very handy for sequence preparation when using recurrent models (like an LSTM). This will be covered more in-depth later in this chapter but for example, a Dataset for sequential models performs several operations before returning a sample: searching for the history of transactions of the same cardholder and appending it to the current transaction before returning the whole sequence. It avoids preparing all the sequences in advance, which would entail repeating several transactions' features in memory and consuming more RAM than necessary. Datasets objects are also useful when dealing with large image datasets in order to load the images on the fly."
      ]
    },
    {
      "cell_type": "markdown",
      "metadata": {
        "id": "fjJiz5gotUM8"
      },
      "source": [
        "Now that `FraudDataset` is defined, one can choose the training/evaluation parameters and instantiate DataLoaders. For now, let us consider a batch size of 64: this means that at each optimization step, 64 samples will be requested to the Dataset, turned into a batch, and go through the forward pass in parallel. Then the aggregation (sum or average) of the gradient of their losses will be used for backpropagation.\n",
        "\n",
        "For the training DataLoader, the shuffle option will be set to `True` so that the order of the data seen by the model will not be the same from one epoch to another. This is recommended and known to be beneficial in Neural Network training {cite}`ruder2016overview`."
      ]
    },
    {
      "cell_type": "code",
      "execution_count": 74,
      "metadata": {
        "id": "1aTzCzaztUM8"
      },
      "outputs": [],
      "source": [
        "train_loader_params = {'batch_size': 64,\n",
        "          'shuffle': True,\n",
        "          'num_workers': 0}\n",
        "test_loader_params = {'batch_size': 64,\n",
        "          'num_workers': 0}\n",
        "\n",
        "# Generators\n",
        "\n",
        "training_set = FraudDataset(x_train, y_train)\n",
        "\n",
        "testing_set = FraudDataset(x_test, y_test)\n",
        "\n",
        "\n",
        "training_generator = torch.utils.data.DataLoader(training_set, **train_loader_params)\n",
        "testing_generator = torch.utils.data.DataLoader(testing_set, **test_loader_params)"
      ]
    },
    {
      "cell_type": "markdown",
      "metadata": {
        "id": "trKSrf1ftUM8"
      },
      "source": [
        "The `num_workers` parameter allows parallelizing batch preparation. It can be useful when the `Dataset` requires a lot of processing before returning a sample. Here we do not use multiprocessing so we set `num_workers` to 0."
      ]
    },
    {
      "cell_type": "markdown",
      "metadata": {
        "id": "SH9hHqkUtUM8"
      },
      "source": [
        "### The model aka the module\n",
        "\n",
        "After defining the data pipeline, the next step is to design the module. Let us start with a first rather simple feed-forward neural network.\n",
        "\n",
        "As suggested in the introduction, the idea is to define several fully connected layers (`torch.nn.Linear`). A first layer `fc1` which takes as input as many neurons as there are features in the input x. It can be followed by a hidden layer with a chosen number of neurons (`hidden_size`). Finally comes the output layer which has a single output neuron to fit the label (`fraud` or `genuine`, represented by 1 and 0).\n",
        "\n",
        "In the past, the sigmoid activation function used to be the primary choice for all activation functions in all layers of a neural network. Today, the preferred choice is `ReLU` (or variants like `eLU`, `leaky ReLU`), at least for the intermediate neurons. It has empirically proven to be a better choice for optimization and speed {cite}`nair2010rectified`. For output neurons, the choice depends on the range or the expected distribution for the output value to be predicted.\n",
        "\n",
        "Below are plotted the output of several activation functions with respect to their input value to show how they behave and how they are distributed:"
      ]
    },
    {
      "cell_type": "code",
      "execution_count": 75,
      "metadata": {
        "tags": [
          "hide-cell"
        ],
        "id": "k_rdRnn8tUM8"
      },
      "outputs": [],
      "source": [
        "%%capture\n",
        "\n",
        "fig_activation, axs = plt.subplots(3, 2,figsize=(11, 13))\n",
        "\n",
        "input_values = torch.arange(-5, 5, 0.05)\n",
        "\n",
        "#linear activation\n",
        "output_values = input_values\n",
        "axs[0, 0].plot(input_values, output_values)\n",
        "axs[0, 0].set_title('Linear')\n",
        "axs[0, 0].set_ylim([-5.1,5.1])\n",
        "\n",
        "#heavyside activation\n",
        "output_values = input_values>0\n",
        "axs[0, 1].plot(input_values, output_values)\n",
        "axs[0, 1].set_title('Heavyside (perceptron)')\n",
        "axs[0, 1].set_ylim([-0.1,1.1])\n",
        "\n",
        "#sigmoid activation\n",
        "activation = torch.nn.Sigmoid()\n",
        "output_values = activation(input_values)\n",
        "axs[1, 0].plot(input_values, output_values)\n",
        "axs[1, 0].set_title('Sigmoid')\n",
        "axs[1, 0].set_ylim([-1.1,1.1])\n",
        "\n",
        "#tanh activation\n",
        "activation = torch.nn.Tanh()\n",
        "output_values = activation(input_values)\n",
        "axs[1, 1].plot(input_values, output_values)\n",
        "axs[1, 1].set_title('Tanh')\n",
        "axs[1, 1].set_ylim([-1.1,1.1])\n",
        "\n",
        "#relu activation\n",
        "activation = torch.nn.ReLU()\n",
        "output_values = activation(input_values)\n",
        "axs[2, 0].plot(input_values, output_values)\n",
        "axs[2, 0].set_title('ReLU')\n",
        "axs[2, 0].set_ylim([-0.5,5.1])\n",
        "\n",
        "#leaky relu activation\n",
        "activation = torch.nn.LeakyReLU(negative_slope=0.05)\n",
        "output_values = activation(input_values)\n",
        "axs[2, 1].plot(input_values, output_values)\n",
        "axs[2, 1].set_title('Leaky ReLU')\n",
        "axs[2, 1].set_ylim([-0.5,5.1])"
      ]
    },
    {
      "cell_type": "code",
      "execution_count": 76,
      "metadata": {
        "colab": {
          "base_uri": "https://localhost:8080/",
          "height": 1000
        },
        "id": "w3tF7ehCtUM8",
        "outputId": "d0d31f4d-c93c-4a1c-87bc-b56068a00bca"
      },
      "outputs": [
        {
          "output_type": "execute_result",
          "data": {
            "text/plain": [
              "<Figure size 1100x1300 with 6 Axes>"
            ],
            "image/png": "[encoded data removed]"
          },
          "metadata": {},
          "execution_count": 76
        }
      ],
      "source": [
        "fig_activation"
      ]
    },
    {
      "cell_type": "markdown",
      "metadata": {
        "id": "YgTgphB2tUM8"
      },
      "source": [
        "For our fraud detection neural network, the `ReLU` activation will be used for the hidden layer and a `Sigmoid` activation for the output layer. The first is the primary choice for intermediate layers in deep learning. The latter is the primary choice for the output neurons in binary classification problems because it outputs values between 0 and 1 that can be interpreted as probabilities.\n",
        "\n",
        "To implement this, let us create a new class `SimpleFraudMLP` that will inherit from a torch module. Its layers (`fc1`, `relu`, `fc2`, `sigmoid`) are initialized in the `__init__` function and will be used successively in the forward pass.  "
      ]
    },
    {
      "cell_type": "code",
      "execution_count": 77,
      "metadata": {
        "id": "mkoVtl3ktUM9"
      },
      "outputs": [],
      "source": [
        "class SimpleFraudMLP(torch.nn.Module):\n",
        "\n",
        "        def __init__(self, input_size, hidden_size):\n",
        "            super(SimpleFraudMLP, self).__init__()\n",
        "            # parameters\n",
        "            self.input_size = input_size\n",
        "            self.hidden_size  = hidden_size\n",
        "\n",
        "            #input to hidden\n",
        "            self.fc1 = torch.nn.Linear(self.input_size, self.hidden_size)\n",
        "            self.relu = torch.nn.ReLU()\n",
        "            #hidden to output\n",
        "            self.fc2 = torch.nn.Linear(self.hidden_size, 1)\n",
        "            self.sigmoid = torch.nn.Sigmoid()\n",
        "\n",
        "        def forward(self, x):\n",
        "\n",
        "            hidden = self.fc1(x)\n",
        "            relu = self.relu(hidden)\n",
        "            output = self.fc2(relu)\n",
        "            output = self.sigmoid(output)\n",
        "\n",
        "            return output"
      ]
    },
    {
      "cell_type": "markdown",
      "metadata": {
        "id": "YqZjn03BtUM9"
      },
      "source": [
        "Once defined, instantiating the model with `1000` neurons in its hidden layer and sending it to the device can be done as follows:"
      ]
    },
    {
      "cell_type": "code",
      "execution_count": 78,
      "metadata": {
        "id": "Zt382u0PtUM9"
      },
      "outputs": [],
      "source": [
        "model = SimpleFraudMLP(len(input_features), 1000).to(DEVICE)"
      ]
    },
    {
      "cell_type": "markdown",
      "metadata": {
        "id": "buSdQWj7tUM9"
      },
      "source": [
        "### The optimizer and the training loop\n",
        "\n",
        "Optimization is at the core of neural network training. The above neural network is designed to output a single value between 0 and 1. The goal is that this value gets as close to 1 (resp. 0) as possible for an input describing a fraudulent (resp. genuine) transaction.\n",
        "\n",
        "In practice, this goal is formulated with an optimization problem that aims at minimizing or maximizing some cost/loss function. The role of the loss function is precisely to measure the discrepancy between the predicted value and the expected value (0 or 1), also referred to as the ground truth. There are many loss functions (mean squared error, cross-entropy, KL-divergence, hinge loss, mean absolute error) available in PyTorch, and each serves a specific purpose. Here we only focus on binary cross-entropy because it is the most relevant loss function for binary classification problems like fraud detection. It is defined as follows:\n",
        "\n",
        "$BCE(y,p) = −(y*log(p)+(1−y)*log(1−p))$\n",
        "\n",
        "Where $y$ is the ground truth (in $\\{0,1\\}$) and $p$ the predicted output (in $]0,1[$)."
      ]
    },
    {
      "cell_type": "code",
      "execution_count": 79,
      "metadata": {
        "id": "ULbRe3DstUM9"
      },
      "outputs": [],
      "source": [
        "criterion = torch.nn.BCELoss().to(DEVICE)"
      ]
    },
    {
      "cell_type": "markdown",
      "metadata": {
        "id": "q8EAqBrxtUM9"
      },
      "source": [
        "Note: Pushing the criterion to the device is only required if this one stores/updates internal state variables or has parameters. It is unnecessary but not detrimental in the above case. We do it to show the most general implementation.\n",
        "\n",
        "Before even training the model, one can already measure its initial loss on the testing set. For this, the model has to be put in `eval` mode:"
      ]
    },
    {
      "cell_type": "code",
      "execution_count": 80,
      "metadata": {
        "colab": {
          "base_uri": "https://localhost:8080/"
        },
        "id": "9v-cI8pQtUM9",
        "outputId": "620a5f1d-7847-46ce-bb43-c0a25118bc47"
      },
      "outputs": [
        {
          "output_type": "execute_result",
          "data": {
            "text/plain": [
              "SimpleFraudMLP(\n",
              "  (fc1): Linear(in_features=15, out_features=1000, bias=True)\n",
              "  (relu): ReLU()\n",
              "  (fc2): Linear(in_features=1000, out_features=1, bias=True)\n",
              "  (sigmoid): Sigmoid()\n",
              ")"
            ]
          },
          "metadata": {},
          "execution_count": 80
        }
      ],
      "source": [
        "model.eval()"
      ]
    },
    {
      "cell_type": "markdown",
      "metadata": {
        "id": "dj28ZUa0tUM-"
      },
      "source": [
        "Then, the process consists in iterating over the testing generator, making predictions, and evaluating the chosen `criterion` (here `torch.nn.BCELoss`)"
      ]
    },
    {
      "cell_type": "code",
      "execution_count": 81,
      "metadata": {
        "colab": {
          "base_uri": "https://localhost:8080/"
        },
        "id": "fYPKcGOLtUNF",
        "outputId": "3a8633ea-5213-437e-878d-6d58cd43ac7e"
      },
      "outputs": [
        {
          "output_type": "execute_result",
          "data": {
            "text/plain": [
              "0.6754083204871344"
            ]
          },
          "metadata": {},
          "execution_count": 81
        }
      ],
      "source": [
        "def evaluate_model(model,generator,criterion):\n",
        "    model.eval()\n",
        "    batch_losses = []\n",
        "    for x_batch, y_batch in generator:\n",
        "        # Forward pass\n",
        "        y_pred = model(x_batch)\n",
        "        # Compute Loss\n",
        "        loss = criterion(y_pred.squeeze(), y_batch)\n",
        "        batch_losses.append(loss.item())\n",
        "    mean_loss = np.mean(batch_losses)\n",
        "    return mean_loss\n",
        "\n",
        "evaluate_model(model,testing_generator,criterion)"
      ]
    },
    {
      "cell_type": "markdown",
      "metadata": {
        "id": "pMtIzydxtUNF"
      },
      "source": [
        "Recall that the optimization problem is defined as follows: minimize the total/average binary cross-entropy of the model over all samples from the training dataset. Therefore, training the model consists in applying an optimization algorithm (backpropagation) to numerically solve the optimization problem.\n",
        "\n",
        "The optimization algorithm or `optimizer` can be the standard stochastic gradient descent with a constant learning rate (`torch.optim.SGD`) or with an adaptive learning rate (`torch.optim.Adagrad`, `torch.optim.Adam`, etc...). Several optimization hyperparameters (learning rate, momentum, batch size, ...) can be tuned. Note that choosing the right optimizer and hyperparameters will impact convergence speed and the quality of the reached optimum. Below is an illustration showing how fast different optimizers can reach the optimum (represented with a star) of a two dimensional optimization problem over the training process.\n",
        "\n",
        "![Optimizers convergence](https://ml-cheatsheet.readthedocs.io/en/latest/_images/optimizers.gif)\n",
        "\n",
        "Source: https://cs231n.github.io/neural-networks-3/\n",
        "\n",
        "\n",
        "Here, let us start with the arbitrary choice `SGD`, with a learning rate of `0.07`."
      ]
    },
    {
      "cell_type": "code",
      "execution_count": 82,
      "metadata": {
        "id": "tqxrLI8StUNG"
      },
      "outputs": [],
      "source": [
        "optimizer = torch.optim.SGD(model.parameters(), lr = 0.07)"
      ]
    },
    {
      "cell_type": "markdown",
      "metadata": {
        "id": "l750u1V-tUNG"
      },
      "source": [
        "And let us implement the training loop for our neural network. First, the model has to be set in training mode. Then several iterations can be performed over the training generator (each iteration is called an epoch). During each iteration, a succession of training batches are provided by the generator and a forward pass is performed to get the model's predictions. Then the criterion is computed between predictions and ground truth, and finally, the backward pass is carried out to update the model with the optimizer.\n",
        "Let us start by setting the number of epochs to `150` arbitrarily."
      ]
    },
    {
      "cell_type": "code",
      "execution_count": 84,
      "metadata": {
        "tags": [
          "output_scroll"
        ],
        "colab": {
          "base_uri": "https://localhost:8080/"
        },
        "id": "wkVDnZXdtUNG",
        "outputId": "f0e3acf5-a82f-484f-dba8-4c93206be249"
      },
      "outputs": [
        {
          "output_type": "stream",
          "name": "stdout",
          "text": [
            "Epoch 0: train loss: 0.016706361633680715\n",
            "test loss: 0.020897596389817894\n",
            "\n",
            "Epoch 1: train loss: 0.01663136537367129\n",
            "test loss: 0.01998912774713385\n",
            "\n",
            "Epoch 2: train loss: 0.016825477215488018\n",
            "test loss: 0.019779298986187133\n",
            "\n",
            "Epoch 3: train loss: 0.01672601455201853\n",
            "test loss: 0.01878088876568231\n",
            "\n",
            "Epoch 4: train loss: 0.01649763357633287\n",
            "test loss: 0.022923874804168902\n",
            "\n",
            "Epoch 5: train loss: 0.016496537904787657\n",
            "test loss: 0.01907019567618767\n",
            "\n",
            "Epoch 6: train loss: 0.0164502908724478\n",
            "test loss: 0.018929715686917058\n",
            "\n",
            "Epoch 7: train loss: 0.016437706292529795\n",
            "test loss: 0.020422067240306863\n",
            "\n",
            "Epoch 8: train loss: 0.016458939121912926\n",
            "test loss: 0.018860595270603617\n",
            "\n",
            "Epoch 9: train loss: 0.016107553017585336\n",
            "test loss: 0.023961257412790708\n",
            "\n",
            "Epoch 10: train loss: 0.01663256866492324\n",
            "test loss: 0.019188070010573273\n",
            "\n",
            "Epoch 11: train loss: 0.016115155869533975\n",
            "test loss: 0.018508028662854267\n",
            "\n",
            "Epoch 12: train loss: 0.016206967187704223\n",
            "test loss: 0.01895418558302964\n",
            "\n",
            "Epoch 13: train loss: 0.01601785911102252\n",
            "test loss: 0.018841588005553123\n",
            "\n",
            "Epoch 14: train loss: 0.01592070904312714\n",
            "test loss: 0.018824575680707254\n",
            "\n",
            "Epoch 15: train loss: 0.016034879555994846\n",
            "test loss: 0.01882674335936569\n",
            "\n",
            "Epoch 16: train loss: 0.016040499231066523\n",
            "test loss: 0.018948029126105808\n",
            "\n",
            "Epoch 17: train loss: 0.015668479483472723\n",
            "test loss: 0.019138368991401422\n",
            "\n",
            "Epoch 18: train loss: 0.015806328351534088\n",
            "test loss: 0.020628864421104374\n",
            "\n",
            "Epoch 19: train loss: 0.015734755626386057\n",
            "test loss: 0.020023382269389135\n",
            "\n",
            "Epoch 20: train loss: 0.015749240559494775\n",
            "test loss: 0.019306211362380237\n",
            "\n",
            "Epoch 21: train loss: 0.01573159782201332\n",
            "test loss: 0.018661811915779605\n",
            "\n",
            "Epoch 22: train loss: 0.015445390122931106\n",
            "test loss: 0.01922183909052068\n",
            "\n",
            "Epoch 23: train loss: 0.015662925377697264\n",
            "test loss: 0.019629484060862942\n",
            "\n",
            "Epoch 24: train loss: 0.015707977101265265\n",
            "test loss: 0.019546328576227484\n",
            "\n",
            "Epoch 25: train loss: 0.015333390880261347\n",
            "test loss: 0.019561091097443375\n",
            "\n",
            "Epoch 26: train loss: 0.01557159639811223\n",
            "test loss: 0.020573543961604334\n",
            "\n",
            "Epoch 27: train loss: 0.015416616993623082\n",
            "test loss: 0.01916244855003879\n",
            "\n",
            "Epoch 28: train loss: 0.015282559755591004\n",
            "test loss: 0.019894079558029167\n",
            "\n",
            "Epoch 29: train loss: 0.015611772087303395\n",
            "test loss: 0.01906216606152991\n",
            "\n",
            "Epoch 30: train loss: 0.015515277442322081\n",
            "test loss: 0.01872470173963042\n",
            "\n",
            "Epoch 31: train loss: 0.015491072279330232\n",
            "test loss: 0.019469331817720117\n",
            "\n",
            "Epoch 32: train loss: 0.015494659074108522\n",
            "test loss: 0.019135940562516836\n",
            "\n",
            "Epoch 33: train loss: 0.01510689467954654\n",
            "test loss: 0.01905484360608995\n",
            "\n",
            "Epoch 34: train loss: 0.015113362361593694\n",
            "test loss: 0.020135374446299835\n",
            "\n",
            "Epoch 35: train loss: 0.015004015766477636\n",
            "test loss: 0.01882592931395048\n",
            "\n",
            "Epoch 36: train loss: 0.015264022064689443\n",
            "test loss: 0.018925127655479334\n",
            "\n",
            "Epoch 37: train loss: 0.015002792593128058\n",
            "test loss: 0.018803167974242314\n",
            "\n",
            "Epoch 38: train loss: 0.01495673679327991\n",
            "test loss: 0.019262621360459097\n",
            "\n",
            "Epoch 39: train loss: 0.015038824679204161\n",
            "test loss: 0.020374442791098804\n",
            "\n",
            "Epoch 40: train loss: 0.01474494255213448\n",
            "test loss: 0.018907612144221726\n",
            "\n",
            "Epoch 41: train loss: 0.014870863444956956\n",
            "test loss: 0.019156030927767874\n",
            "\n",
            "Epoch 42: train loss: 0.014820344992955398\n",
            "test loss: 0.02111569875756071\n",
            "\n",
            "Epoch 43: train loss: 0.014734189712365365\n",
            "test loss: 0.019637396451137944\n",
            "\n",
            "Epoch 44: train loss: 0.014794758922160364\n",
            "test loss: 0.018979336046819492\n",
            "\n",
            "Epoch 45: train loss: 0.0148405880778257\n",
            "test loss: 0.019858248484121332\n",
            "\n",
            "Epoch 46: train loss: 0.01484427475911006\n",
            "test loss: 0.01861675841030082\n",
            "\n",
            "Epoch 47: train loss: 0.014710578181006398\n",
            "test loss: 0.01949715373303351\n",
            "\n",
            "Epoch 48: train loss: 0.01468276371824937\n",
            "test loss: 0.019104371757997184\n",
            "\n",
            "Epoch 49: train loss: 0.014618894921407036\n",
            "test loss: 0.019846489443098688\n",
            "\n",
            "Epoch 50: train loss: 0.014583678348364307\n",
            "test loss: 0.018883797285145987\n",
            "\n",
            "Epoch 51: train loss: 0.014596060282381501\n",
            "test loss: 0.01934724703269349\n",
            "\n",
            "Epoch 52: train loss: 0.014533336744196252\n",
            "test loss: 0.01928427451505258\n",
            "\n",
            "Epoch 53: train loss: 0.014398193089969343\n",
            "test loss: 0.019439557644678637\n",
            "\n",
            "Epoch 54: train loss: 0.014502783235495682\n",
            "test loss: 0.019112046201328486\n",
            "\n",
            "Epoch 55: train loss: 0.01447142439378872\n",
            "test loss: 0.019361446134037615\n",
            "\n",
            "Epoch 56: train loss: 0.014438495486770906\n",
            "test loss: 0.01875662117971963\n",
            "\n",
            "Epoch 57: train loss: 0.014427417898264853\n",
            "test loss: 0.019562106486192662\n",
            "\n",
            "Epoch 58: train loss: 0.014320500995534039\n",
            "test loss: 0.020650060772070298\n",
            "\n",
            "Epoch 59: train loss: 0.014430720578404152\n",
            "test loss: 0.019865415250265542\n",
            "\n",
            "Epoch 60: train loss: 0.01416518427006241\n",
            "test loss: 0.020240133103198176\n",
            "\n",
            "Epoch 61: train loss: 0.014294419708691863\n",
            "test loss: 0.019696489268475295\n",
            "\n",
            "Epoch 62: train loss: 0.014064507045927984\n",
            "test loss: 0.019636762662772568\n",
            "\n",
            "Epoch 63: train loss: 0.014348772916950367\n",
            "test loss: 0.019057071895599794\n",
            "\n",
            "Epoch 64: train loss: 0.01418171254367471\n",
            "test loss: 0.019339779673051446\n",
            "\n",
            "Epoch 65: train loss: 0.014104942129280235\n",
            "test loss: 0.01913816486869946\n",
            "\n",
            "Epoch 66: train loss: 0.014082969436275778\n",
            "test loss: 0.019021210776475585\n",
            "\n",
            "Epoch 67: train loss: 0.01373122607248806\n",
            "test loss: 0.01993557810818528\n",
            "\n",
            "Epoch 68: train loss: 0.013766588116832056\n",
            "test loss: 0.021194176703716913\n",
            "\n",
            "Epoch 69: train loss: 0.013664187056370892\n",
            "test loss: 0.02149639915599274\n",
            "\n",
            "Epoch 70: train loss: 0.013845166833736764\n",
            "test loss: 0.019444183273632978\n",
            "\n",
            "Epoch 71: train loss: 0.013654824075757391\n",
            "test loss: 0.019527185306900705\n",
            "\n",
            "Epoch 72: train loss: 0.013908969858192973\n",
            "test loss: 0.01909433358650359\n",
            "\n",
            "Epoch 73: train loss: 0.01401308109755845\n",
            "test loss: 0.019296763615934336\n",
            "\n",
            "Epoch 74: train loss: 0.013747733495075019\n",
            "test loss: 0.020396354322183192\n",
            "\n",
            "Epoch 75: train loss: 0.013559105849583818\n",
            "test loss: 0.019162169573562777\n",
            "\n",
            "Epoch 76: train loss: 0.013840655873766209\n",
            "test loss: 0.019771635647420745\n",
            "\n",
            "Epoch 77: train loss: 0.013523640542135588\n",
            "test loss: 0.019136651102507143\n",
            "\n",
            "Epoch 78: train loss: 0.01357450891356139\n",
            "test loss: 0.01998939633044352\n",
            "\n",
            "Epoch 79: train loss: 0.013581922053506546\n",
            "test loss: 0.01946115072618666\n",
            "\n",
            "Epoch 80: train loss: 0.01352477804405418\n",
            "test loss: 0.01994988665651248\n",
            "\n",
            "Epoch 81: train loss: 0.01316237271539415\n",
            "test loss: 0.01923086618366687\n",
            "\n",
            "Epoch 82: train loss: 0.01339059486424951\n",
            "test loss: 0.01927996781647883\n",
            "\n",
            "Epoch 83: train loss: 0.013228060909315189\n",
            "test loss: 0.02014750272190095\n",
            "\n",
            "Epoch 84: train loss: 0.01328946786763618\n",
            "test loss: 0.019657505569223296\n",
            "\n",
            "Epoch 85: train loss: 0.013765305129157204\n",
            "test loss: 0.02140467734832974\n",
            "\n",
            "Epoch 86: train loss: 0.013335372961702695\n",
            "test loss: 0.020047866622374254\n",
            "\n",
            "Epoch 87: train loss: 0.013406799086564523\n",
            "test loss: 0.019679364435792348\n",
            "\n",
            "Epoch 88: train loss: 0.013428689273837228\n",
            "test loss: 0.020307564555927263\n",
            "\n",
            "Epoch 89: train loss: 0.013163754191040482\n",
            "test loss: 0.019728555725174356\n",
            "\n",
            "Epoch 90: train loss: 0.01327676256984777\n",
            "test loss: 0.02058169640806804\n",
            "\n",
            "Epoch 91: train loss: 0.013038540425042239\n",
            "test loss: 0.019750914976232593\n",
            "\n",
            "Epoch 92: train loss: 0.01312660366309174\n",
            "test loss: 0.019457932835007515\n",
            "\n",
            "Epoch 93: train loss: 0.01320197358648811\n",
            "test loss: 0.020123043365655905\n",
            "\n",
            "Epoch 94: train loss: 0.013122550003993972\n",
            "test loss: 0.021249376376809678\n",
            "\n",
            "Epoch 95: train loss: 0.013100110166431445\n",
            "test loss: 0.019464804812254738\n",
            "\n",
            "Epoch 96: train loss: 0.012911748768541108\n",
            "test loss: 0.019790347004178952\n",
            "\n",
            "Epoch 97: train loss: 0.013027937787622177\n",
            "test loss: 0.021277571419554504\n",
            "\n",
            "Epoch 98: train loss: 0.013102018769768879\n",
            "test loss: 0.019943336359606406\n",
            "\n",
            "Epoch 99: train loss: 0.012955532475932015\n",
            "test loss: 0.02131583777810401\n",
            "\n"
          ]
        }
      ],
      "source": [
        "n_epochs = 100\n",
        "#Setting the model in training mode\n",
        "model.train()\n",
        "\n",
        "#Training loop\n",
        "start_time=time.time()\n",
        "epochs_train_losses = []\n",
        "epochs_test_losses = []\n",
        "for epoch in range(n_epochs):\n",
        "    model.train()\n",
        "    train_loss=[]\n",
        "    for x_batch, y_batch in training_generator:\n",
        "        # Removing previously computed gradients\n",
        "        optimizer.zero_grad()\n",
        "        # Performing the forward pass on the current batch\n",
        "        y_pred = model(x_batch)\n",
        "        # Computing the loss given the current predictions\n",
        "        loss = criterion(y_pred.squeeze(), y_batch)\n",
        "        # Computing the gradients over the backward pass\n",
        "        loss.backward()\n",
        "        # Performing an optimization step from the current gradients\n",
        "        optimizer.step()\n",
        "        # Storing the current step's loss for display purposes\n",
        "        train_loss.append(loss.item())\n",
        "\n",
        "    #showing last training loss after each epoch\n",
        "    epochs_train_losses.append(np.mean(train_loss))\n",
        "    print('Epoch {}: train loss: {}'.format(epoch, np.mean(train_loss)))\n",
        "\n",
        "    #evaluating the model on the test set after each epoch\n",
        "    val_loss = evaluate_model(model,testing_generator,criterion)\n",
        "    epochs_test_losses.append(val_loss)\n",
        "    print('test loss: {}'.format(val_loss))\n",
        "    print(\"\")\n",
        "\n",
        "training_execution_time=time.time()-start_time"
      ]
    },
    {
      "cell_type": "markdown",
      "metadata": {
        "id": "4ufKA82QtUNG"
      },
      "source": [
        "After training the model, a good practice is to analyze the training logs."
      ]
    },
    {
      "cell_type": "code",
      "execution_count": 85,
      "metadata": {
        "colab": {
          "base_uri": "https://localhost:8080/",
          "height": 466
        },
        "id": "EPp7UMWFtUNG",
        "outputId": "8f7b3de5-5cf3-48e7-a6f2-ac1e7722d808"
      },
      "outputs": [
        {
          "output_type": "execute_result",
          "data": {
            "text/plain": [
              "<matplotlib.legend.Legend at 0x7f1366e37550>"
            ]
          },
          "metadata": {},
          "execution_count": 85
        },
        {
          "output_type": "display_data",
          "data": {
            "text/plain": [
              "<Figure size 640x480 with 1 Axes>"
            ],
            "image/png": "[encoded data removed]"
          },
          "metadata": {}
        }
      ],
      "source": [
        "ma_window = 10\n",
        "\n",
        "plt.plot(np.arange(len(epochs_train_losses)-ma_window + 1)+1, np.convolve(epochs_train_losses, np.ones(ma_window)/ma_window, mode='valid'))\n",
        "plt.plot(np.arange(len(epochs_test_losses)-ma_window + 1)+1, np.convolve(epochs_test_losses, np.ones(ma_window)/ma_window, mode='valid'))\n",
        "plt.xlabel('epoch')\n",
        "plt.ylabel('loss')\n",
        "plt.legend(['train','valid'])\n",
        "#plt.ylim([0.01,0.06])"
      ]
    },
    {
      "cell_type": "code",
      "execution_count": 86,
      "metadata": {
        "colab": {
          "base_uri": "https://localhost:8080/"
        },
        "id": "EKIG4lGltUNG",
        "outputId": "c8981df7-0a4f-4e73-ecb8-8c7d604c2918"
      },
      "outputs": [
        {
          "output_type": "stream",
          "name": "stdout",
          "text": [
            "300.4955053329468\n"
          ]
        }
      ],
      "source": [
        "print(training_execution_time)"
      ]
    },
    {
      "cell_type": "markdown",
      "metadata": {
        "id": "vmlfXu8JtUNG"
      },
      "source": [
        "One can note here how the training loss decreases epoch after epoch. This means that the optimization is going well: the chosen learning rate allows to update the model towards a better solution (lower loss) for the **training dataset**. However, neural networks are known to be very expressive models. In fact, the universal approximation theorem shows that, with enough neurons/layers, one can model any function with a neural network {cite}`cybenko1989approximation`. Therefore, it is expected for a complex neural network to be able to fit almost perfectly the training data. But the ultimate goal is to obtain a model that generalizes well on unseen data (like the validation set). Looking at the validation loss, one can see that it starts by decreasing (with oscillations) and it reaches an optimum around 0.019, and stops decreasing (or even starts increasing). This phenomenon is referred to as [overfitting](Model_Selection).\n",
        "\n",
        "Many aspects can be improved in the training. Although one cannot measure the performance on the final test set while training, one can rely on a validation set and try to stop training before overfitting (see [](Model_Selection)). One can also change the optimization algorithm and parameters to speed up training and reach a better optimum. This is investigated later, in the optimization paragraph."
      ]
    },
    {
      "cell_type": "markdown",
      "metadata": {
        "id": "FMXfZUoStUNH"
      },
      "source": [
        "For now, let us consider this final fitted model and evaluate it the same way as the other models in previous chapters. For this, let us create a prediction DataFrame and call the `performance_assessment` function from the shared functions."
      ]
    },
    {
      "cell_type": "code",
      "execution_count": null,
      "metadata": {
        "id": "_H8OSl-ltUNH"
      },
      "outputs": [],
      "source": [
        "start_time=time.time()\n",
        "predictions_test = model(x_test.to(DEVICE))\n",
        "prediction_execution_time = time.time()-start_time\n",
        "predictions_train = model(x_train.to(DEVICE))\n",
        "print(\"Predictions took\", prediction_execution_time,\"seconds.\")"
      ]
    },
    {
      "cell_type": "code",
      "execution_count": null,
      "metadata": {
        "id": "et_SPn8ftUNH"
      },
      "outputs": [],
      "source": [
        "predictions_df=test_df\n",
        "predictions_df['predictions']=predictions_test.detach().cpu().numpy()\n",
        "\n",
        "performance_assessment(predictions_df, top_k_list=[100])"
      ]
    },
    {
      "cell_type": "markdown",
      "metadata": {
        "id": "G7p7Hl2ftUNH"
      },
      "source": [
        "This first shot feed-forward network already obtains a decent performance on the test set (refer to [Chapter 3.4](Baseline_FDS_Performances_Simulation) for comparison). But several elements can be modified to improve the AUC ROC, reduce the training time, etc."
      ]
    },
    {
      "cell_type": "markdown",
      "metadata": {
        "id": "RmI-G3VOtUNH"
      },
      "source": [
        "As stated above, for the first model, optimization was not carried out properly because the validation performance is not exploited during the training process. To avoid overfitting in practice, it is necessary to take it into account (See Chapter 5, [](Hold_Out_Validation))."
      ]
    },
    {
      "cell_type": "code",
      "execution_count": null,
      "metadata": {
        "id": "qVzwB5yHtUNH"
      },
      "outputs": [],
      "source": [
        "delta_valid = delta_test\n",
        "\n",
        "start_date_training_with_valid = start_date_training+datetime.timedelta(days=-(delta_delay+delta_valid))\n",
        "\n",
        "(train_df, valid_df)=get_train_test_set(transactions_df,start_date_training_with_valid,\n",
        "                                       delta_train=delta_train,delta_delay=delta_delay,delta_test=delta_test)\n",
        "\n",
        "# By default, scales input data\n",
        "(train_df, valid_df)=scaleData(train_df, valid_df, input_features)"
      ]
    },
    {
      "cell_type": "markdown",
      "metadata": {
        "id": "qlX3-jJrtUNH"
      },
      "source": [
        "Let us implement an early stopping strategy. The idea is to detect overfitting, i.e. when validation error starts increasing, and stop the training process. Sometimes, the validation error might increase at a given epoch, but then decrease again. For that reason, it is important to also consider a patience parameter, i.e. a number of iterations for which the training process waits in order to make sure that the error is definitely increasing."
      ]
    },
    {
      "cell_type": "code",
      "execution_count": null,
      "metadata": {
        "id": "d78rdKtQtUNH"
      },
      "outputs": [],
      "source": [
        "class EarlyStopping:\n",
        "\n",
        "    def __init__(self, patience=2, verbose=False):\n",
        "        self.patience = patience\n",
        "        self.verbose = verbose\n",
        "        self.counter = 0\n",
        "        self.best_score = np.Inf\n",
        "\n",
        "    def continue_training(self,current_score):\n",
        "        if self.best_score > current_score:\n",
        "            self.best_score = current_score\n",
        "            self.counter = 0\n",
        "            if self.verbose:\n",
        "                print(\"New best score:\", current_score)\n",
        "        else:\n",
        "            self.counter+=1\n",
        "            if self.verbose:\n",
        "                print(self.counter, \" iterations since best score.\")\n",
        "\n",
        "        return self.counter <= self.patience"
      ]
    },
    {
      "cell_type": "code",
      "execution_count": null,
      "metadata": {
        "id": "lJzre91stUNI"
      },
      "outputs": [],
      "source": [
        "seed_everything(SEED)\n",
        "\n",
        "model = SimpleFraudMLP(len(input_features), 1000).to(DEVICE)\n",
        "\n",
        "def prepare_generators(train_df,valid_df,batch_size=64):\n",
        "    x_train = torch.FloatTensor(train_df[input_features].values)\n",
        "    x_valid = torch.FloatTensor(valid_df[input_features].values)\n",
        "    y_train = torch.FloatTensor(train_df[output_feature].values)\n",
        "    y_valid = torch.FloatTensor(valid_df[output_feature].values)\n",
        "    train_loader_params = {'batch_size': batch_size,\n",
        "              'shuffle': True,\n",
        "              'num_workers': 0}\n",
        "    valid_loader_params = {'batch_size': batch_size,\n",
        "              'num_workers': 0}\n",
        "    # Generators\n",
        "\n",
        "    training_set = FraudDataset(x_train, y_train)\n",
        "    valid_set = FraudDataset(x_valid, y_valid)\n",
        "\n",
        "    training_generator = torch.utils.data.DataLoader(training_set, **train_loader_params)\n",
        "    valid_generator = torch.utils.data.DataLoader(valid_set, **valid_loader_params)\n",
        "\n",
        "    return training_generator,valid_generator\n",
        "\n",
        "training_generator,valid_generator = prepare_generators(train_df,valid_df,batch_size=64)\n",
        "\n",
        "criterion = torch.nn.BCELoss().to(DEVICE)\n",
        "optimizer = torch.optim.SGD(model.parameters(), lr = 0.0005)"
      ]
    },
    {
      "cell_type": "markdown",
      "metadata": {
        "id": "Z9383DKftUNI"
      },
      "source": [
        "The training loop can now be adapted to integrate early stopping:"
      ]
    },
    {
      "cell_type": "code",
      "execution_count": null,
      "metadata": {
        "tags": [
          "output_scroll"
        ],
        "colab": {
          "base_uri": "https://localhost:8080/"
        },
        "id": "OyOTPxXKtUNI",
        "outputId": "89082769-42ef-465a-b640-330c04a9c536"
      },
      "outputs": [
        {
          "output_type": "stream",
          "name": "stdout",
          "text": [
            "\n",
            "Epoch 0: train loss: 0.19094532902706876\n",
            "valid loss: 0.09363199265195372\n",
            "New best score: 0.09363199265195372\n",
            "\n",
            "Epoch 1: train loss: 0.09756324271071368\n",
            "valid loss: 0.06975944483540748\n",
            "New best score: 0.06975944483540748\n",
            "\n",
            "Epoch 2: train loss: 0.07713193162371107\n",
            "valid loss: 0.057125549956830474\n",
            "New best score: 0.057125549956830474\n",
            "\n",
            "Epoch 3: train loss: 0.06579174247728821\n",
            "valid loss: 0.05029815405281515\n",
            "New best score: 0.05029815405281515\n",
            "\n",
            "Epoch 4: train loss: 0.06037377726365002\n",
            "valid loss: 0.04628613654707299\n",
            "New best score: 0.04628613654707299\n",
            "\n",
            "Epoch 5: train loss: 0.05693923209546344\n",
            "valid loss: 0.043647834346146205\n",
            "New best score: 0.043647834346146205\n",
            "\n",
            "Epoch 6: train loss: 0.054466319754790965\n",
            "valid loss: 0.041660719363863674\n",
            "New best score: 0.041660719363863674\n",
            "\n",
            "Epoch 7: train loss: 0.052478762063951044\n",
            "valid loss: 0.0400674227085677\n",
            "New best score: 0.0400674227085677\n",
            "\n",
            "Epoch 8: train loss: 0.050844424592071065\n",
            "valid loss: 0.03885680468742802\n",
            "New best score: 0.03885680468742802\n",
            "\n",
            "Epoch 9: train loss: 0.0493321320367888\n",
            "valid loss: 0.03774035450457875\n",
            "New best score: 0.03774035450457875\n",
            "\n",
            "Epoch 10: train loss: 0.048010754121207484\n",
            "valid loss: 0.03679696718648157\n",
            "New best score: 0.03679696718648157\n",
            "\n",
            "Epoch 11: train loss: 0.046824077456783554\n",
            "valid loss: 0.03591665905885032\n",
            "New best score: 0.03591665905885032\n",
            "\n",
            "Epoch 12: train loss: 0.04571960133947361\n",
            "valid loss: 0.03514220895642629\n",
            "New best score: 0.03514220895642629\n",
            "\n",
            "Epoch 13: train loss: 0.04473093227816329\n",
            "valid loss: 0.034494941077027164\n",
            "New best score: 0.034494941077027164\n",
            "\n",
            "Epoch 14: train loss: 0.0437747991624258\n",
            "valid loss: 0.0338226818097908\n",
            "New best score: 0.0338226818097908\n",
            "\n",
            "Epoch 15: train loss: 0.042906155102809686\n",
            "valid loss: 0.03326653973835576\n",
            "New best score: 0.03326653973835576\n",
            "\n",
            "Epoch 16: train loss: 0.042096036805078584\n",
            "valid loss: 0.032733792088966554\n",
            "New best score: 0.032733792088966554\n",
            "\n",
            "Epoch 17: train loss: 0.041340677014215496\n",
            "valid loss: 0.03222761422171782\n",
            "New best score: 0.03222761422171782\n",
            "\n",
            "Epoch 18: train loss: 0.04066945744827959\n",
            "valid loss: 0.03177180163195876\n",
            "New best score: 0.03177180163195876\n",
            "\n",
            "Epoch 19: train loss: 0.039980370717400945\n",
            "valid loss: 0.031328698760661924\n",
            "New best score: 0.031328698760661924\n",
            "\n",
            "Epoch 20: train loss: 0.03936898095682833\n",
            "valid loss: 0.03092572465895222\n",
            "New best score: 0.03092572465895222\n",
            "\n",
            "Epoch 21: train loss: 0.03881185705351499\n",
            "valid loss: 0.030571206461108936\n",
            "New best score: 0.030571206461108936\n",
            "\n",
            "Epoch 22: train loss: 0.038301427309520644\n",
            "valid loss: 0.030212066225361465\n",
            "New best score: 0.030212066225361465\n",
            "\n",
            "Epoch 23: train loss: 0.03780327680258946\n",
            "valid loss: 0.029842680067719656\n",
            "New best score: 0.029842680067719656\n",
            "\n",
            "Epoch 24: train loss: 0.03736350699381308\n",
            "valid loss: 0.029539039079608812\n",
            "New best score: 0.029539039079608812\n",
            "\n",
            "Epoch 25: train loss: 0.036951251677460044\n",
            "valid loss: 0.02924803433980528\n",
            "New best score: 0.02924803433980528\n",
            "\n",
            "Epoch 26: train loss: 0.03657286716393599\n",
            "valid loss: 0.02896783129703966\n",
            "New best score: 0.02896783129703966\n",
            "\n",
            "Epoch 27: train loss: 0.03621781105887907\n",
            "valid loss: 0.028707566389132067\n",
            "New best score: 0.028707566389132067\n",
            "\n",
            "Epoch 28: train loss: 0.03588858276407945\n",
            "valid loss: 0.028425763198810686\n",
            "New best score: 0.028425763198810686\n",
            "\n",
            "Epoch 29: train loss: 0.03558729843362938\n",
            "valid loss: 0.028231198372716298\n",
            "New best score: 0.028231198372716298\n",
            "\n",
            "Epoch 30: train loss: 0.035337141157176\n",
            "valid loss: 0.027996696195376865\n",
            "New best score: 0.027996696195376865\n",
            "\n",
            "Epoch 31: train loss: 0.03506134718391211\n",
            "valid loss: 0.027787810110084996\n",
            "New best score: 0.027787810110084996\n",
            "\n",
            "Epoch 32: train loss: 0.03479003766685169\n",
            "valid loss: 0.02757403338022652\n",
            "New best score: 0.02757403338022652\n",
            "\n",
            "Epoch 33: train loss: 0.03455540943039621\n",
            "valid loss: 0.027386828203039254\n",
            "New best score: 0.027386828203039254\n",
            "\n",
            "Epoch 34: train loss: 0.03436213013196068\n",
            "valid loss: 0.027247307709128154\n",
            "New best score: 0.027247307709128154\n",
            "\n",
            "Epoch 35: train loss: 0.03413129780471795\n",
            "valid loss: 0.027072331879817235\n",
            "New best score: 0.027072331879817235\n",
            "\n",
            "Epoch 36: train loss: 0.03393075139044533\n",
            "valid loss: 0.026900195927852817\n",
            "New best score: 0.026900195927852817\n",
            "\n",
            "Epoch 37: train loss: 0.03373889805772208\n",
            "valid loss: 0.0268116401966478\n",
            "New best score: 0.0268116401966478\n",
            "\n",
            "Epoch 38: train loss: 0.033571421366405764\n"
          ]
        }
      ],
      "source": [
        "def training_loop(model,training_generator,valid_generator,optimizer,criterion,max_epochs=100,apply_early_stopping=True,patience=2,verbose=False):\n",
        "    #Setting the model in training mode\n",
        "    model.train()\n",
        "\n",
        "    if apply_early_stopping:\n",
        "        early_stopping = EarlyStopping(verbose=verbose,patience=patience)\n",
        "\n",
        "    all_train_losses = []\n",
        "    all_valid_losses = []\n",
        "\n",
        "    #Training loop\n",
        "    start_time=time.time()\n",
        "    for epoch in range(max_epochs):\n",
        "        model.train()\n",
        "        train_loss=[]\n",
        "        for x_batch, y_batch in training_generator:\n",
        "            optimizer.zero_grad()\n",
        "            y_pred = model(x_batch)\n",
        "            loss = criterion(y_pred.squeeze(), y_batch)\n",
        "            loss.backward()\n",
        "            optimizer.step()\n",
        "            train_loss.append(loss.item())\n",
        "\n",
        "        #showing last training loss after each epoch\n",
        "        all_train_losses.append(np.mean(train_loss))\n",
        "        if verbose:\n",
        "            print('')\n",
        "            print('Epoch {}: train loss: {}'.format(epoch, np.mean(train_loss)))\n",
        "        #evaluating the model on the test set after each epoch\n",
        "        valid_loss = evaluate_model(model,valid_generator,criterion)\n",
        "        all_valid_losses.append(valid_loss)\n",
        "        if verbose:\n",
        "            print('valid loss: {}'.format(valid_loss))\n",
        "        if apply_early_stopping:\n",
        "            if not early_stopping.continue_training(valid_loss):\n",
        "                if verbose:\n",
        "                    print(\"Early stopping\")\n",
        "                break\n",
        "\n",
        "    training_execution_time=time.time()-start_time\n",
        "    return model,training_execution_time,all_train_losses,all_valid_losses\n",
        "\n",
        "model,training_execution_time,train_losses,valid_losses = training_loop(model,training_generator,valid_generator,optimizer,criterion,max_epochs=500,verbose=True)"
      ]
    },
    {
      "cell_type": "markdown",
      "metadata": {
        "id": "FGyR0KBrtUNI"
      },
      "source": [
        "After 251 epochs, the model stops learning because the validation performance has not improved for three iterations. Here the optimal model (from epoch 248) is not saved, but this could be implemented by simply adding `torch.save(model.state_dict(), checkpoint_path)` in the `EarlyStopping` class whenever a new best performance is reached. This allows reloading the saved best checkpoint at the end of the training."
      ]
    },
    {
      "cell_type": "markdown",
      "metadata": {
        "id": "GtmaMqgbtUNI"
      },
      "source": [
        "Now that a clean optimization process is defined, one can consider several solutions to speed up and improve convergence towards a decent extremum. The most natural way to do so is to play with the optimizer hyperparameters like the learning rate and the batch size. With a large learning rate, gradient descent is fast at the beginning, but then the optimizer struggles to find the minimum. Adaptive learning rate techniques like Adam/RMSProp take into account the steepness by normalizing the learning rate with respect to the gradient norm. Below are the formulas to update on a model parameter $w_t$ with Adam.\n",
        "\n",
        "$w_{t+1} = w_t - \\frac{\\eta}{\\sqrt{\\hat{v_t}+\\epsilon}}*\\hat{m_t}$\n",
        "\n",
        "Where:\n",
        "\n",
        "$m_t = \\beta_1 * m_{t-1} + (1-\\beta_1)*\\nabla w_t$\n",
        "\n",
        "$v_t = \\beta_2 * v_{t-1} + (1-\\beta_2)*(\\nabla w_t)^2$\n",
        "\n",
        "$\\hat{m_t}=\\frac{m_t}{1-\\beta_1^t}$\n",
        "\n",
        "$\\hat{v_t}=\\frac{v_t}{1-\\beta_2^t}$\n",
        "\n",
        "The difference with SGD is that here the learning rate is normalized using the \"gradient norm\" ($\\approx \\hat{m_t}$). To be more precise, the approach does not use the \"raw\" gradient $\\nabla w_t$ and gradient norm $\\nabla w_t^2$ but a momentum instead (convex combination between previous values and the current value), respectively $m_t$ and $v_t$. It also applies a decay over the iterations.\n",
        "\n",
        "Let us try Adam with an initial learning rate of `0.0005` to see the difference with regular SGD."
      ]
    },
    {
      "cell_type": "code",
      "execution_count": null,
      "metadata": {
        "tags": [
          "output_scroll"
        ],
        "id": "jmuooZZMtUNI"
      },
      "outputs": [],
      "source": [
        "seed_everything(SEED)\n",
        "model = SimpleFraudMLP(len(input_features), 1000).to(DEVICE)\n",
        "optimizer = torch.optim.Adam(model.parameters(), lr = 0.0005)\n",
        "model,training_execution_time,train_losses_adam,valid_losses_adam = training_loop(model,training_generator,valid_generator,optimizer,criterion,verbose=True)"
      ]
    },
    {
      "cell_type": "code",
      "execution_count": null,
      "metadata": {
        "id": "tvyDL8LKtUNI"
      },
      "outputs": [],
      "source": [
        "\n",
        "\n",
        "plt.subplot(1, 2, 2)\n",
        "plt.plot(np.arange(len(train_losses_adam))+1, train_losses_adam)\n",
        "plt.plot(np.arange(len(valid_losses_adam))+1, valid_losses_adam)\n",
        "plt.title(\"ADAM\")\n",
        "plt.xlabel('epoch')\n",
        "plt.ylabel('loss')\n",
        "plt.legend(['train','valid'])\n",
        "plt.ylim([0.01,0.06])\n",
        "\n",
        "plt.subplot(1, 2, 1)\n",
        "plt.plot(np.arange(len(train_losses))+1, train_losses)\n",
        "plt.plot(np.arange(len(valid_losses))+1, valid_losses)\n",
        "plt.title(\"SGD\")\n",
        "plt.xlabel('epoch')\n",
        "plt.ylabel('loss')\n",
        "plt.legend(['train','valid'])\n",
        "plt.ylim([0.01,0.06])"
      ]
    },
    {
      "cell_type": "markdown",
      "metadata": {
        "id": "DA2EIU-4tUNJ"
      },
      "source": [
        "The optimization is much faster with Adam (10 times fewer epochs) and it reaches a better optimum. Of course, increasing patience or changing the learning rate with SGD would probably help improve both speed and optimum. Nevertheless, Adam will be retained for the rest of the chapter as it usually allows very decent performance **without significant tuning**. To build the final neural network later, the tuning will mostly be made using batch size and initial learning rate."
      ]
    },
    {
      "cell_type": "markdown",
      "metadata": {
        "id": "twxpqaVYtUNJ"
      },
      "source": [
        "Here are only mentioned the optimizer's choice and some hyperparameters tuning for the optimization process. But keep in mind that neural network optimization is a very wide and active area of research/engineering. For instance, with Deep Networks, one can apply batch normalization after each layer to standardize the distribution and speed up convergence. One can also reduce the learning rate when validation loss reaches a plateau (`torch.optim.ReduceLROnPlateau`). For a full guide on Deep Learning optimization, we recommend {cite}`ruder2016overview,le2011optimization`."
      ]
    },
    {
      "cell_type": "markdown",
      "metadata": {
        "id": "9dOr-LFAtUNJ"
      },
      "source": [
        "## Regularization"
      ]
    },
    {
      "cell_type": "markdown",
      "metadata": {
        "id": "wzzpSVZftUNJ"
      },
      "source": [
        "A classical way to improve generalization and reach a better validation performance is to regularize the model. Roughly speaking, regularization consists in limiting the model expressiveness in order to reduce overfitting.\n",
        "\n",
        "The most common technique to regularize a machine learning model is to restrict its parameter space, for instance, its norm, by adding a term in the optimization problem. Additionally, to minimize the discrepancy between ground truth and prediction, integrating an L1 norm (resp. L2 norm) term in the loss will entail parameter sparsity (resp. will limit parameters amplitude). The initial solution space is generally full of equivalent solutions (e.g. with linear activations, dividing all input weights of a neuron by 2 and multiplying all of its output weights by 2 leads to an equivalent model), so the restrictions entailed by regularization not only limits overfitting but also reduces the search and can help with optimization. Finally, selecting a solution with minimal norm follows the principle of \"All things being equal, the simplest solution tends to be the best one\", a scientific principle often referred to as the [Occam's razor](https://en.wikipedia.org/wiki/Occam's_razor).\n",
        "\n",
        "In contrast to adding loss terms, there is a regularization technique specifically designed for Neural Networks called dropout. Dropout consists in randomly dropping some neurons from the network at each training step. More precisely, one fixes a dropout parameter p∈[0,1], and, for each mini-batch, for each neuron, performs a coin toss (Bernoulli) with probability p. If positive, one temporarily sets the neuron's weights to zero (so that the dropped neuron is not considered during the forward and backward passes). It is equivalent to training a random sub-network at each mini-batch (Figure 5), and it can be proven that this has an L2-regularization effect on specific architectures {cite}`srivastava2014dropout`.\n",
        "\n",
        "![alt text](https://github.com/Fraud-Detection-Handbook/fraud-detection-handbook/blob/main/Chapter_7_DeepLearning/images/dropout.png?raw=1)\n",
        "Image source: {cite}`srivastava2014dropout`\n",
        "\n",
        "To implement it, let us define a new model with an additional `torch.nn.Dropout` layer."
      ]
    },
    {
      "cell_type": "code",
      "execution_count": null,
      "metadata": {
        "id": "aLLot7UItUNJ"
      },
      "outputs": [],
      "source": [
        "class SimpleFraudMLPWithDropout(torch.nn.Module):\n",
        "\n",
        "        def __init__(self, input_size, hidden_size,p):\n",
        "            super(SimpleFraudMLPWithDropout, self).__init__()\n",
        "            # parameters\n",
        "            self.input_size = input_size\n",
        "            self.hidden_size  = hidden_size\n",
        "            self.p = p\n",
        "\n",
        "            #input to hidden\n",
        "            self.fc1 = torch.nn.Linear(self.input_size, self.hidden_size)\n",
        "            self.relu = torch.nn.ReLU()\n",
        "            #hidden to output\n",
        "            self.fc2 = torch.nn.Linear(self.hidden_size, 1)\n",
        "            self.sigmoid = torch.nn.Sigmoid()\n",
        "\n",
        "            self.dropout = torch.nn.Dropout(self.p)\n",
        "\n",
        "        def forward(self, x):\n",
        "\n",
        "            hidden = self.fc1(x)\n",
        "            hidden = self.relu(hidden)\n",
        "\n",
        "            hidden = self.dropout(hidden)\n",
        "\n",
        "            output = self.fc2(hidden)\n",
        "            output = self.sigmoid(output)\n",
        "\n",
        "            return output"
      ]
    },
    {
      "cell_type": "markdown",
      "metadata": {
        "id": "uKS-DjlXtUNJ"
      },
      "source": [
        "Note that setting the model in training/evaluation mode with the methods `model.eval()` and `model.train()` take all its significance here. In particular, the dropout layer in the forward pass is only applied when the model is in training mode."
      ]
    },
    {
      "cell_type": "code",
      "execution_count": null,
      "metadata": {
        "id": "JyHNDoNYtUNJ"
      },
      "outputs": [],
      "source": [
        "seed_everything(SEED)\n",
        "model = SimpleFraudMLPWithDropout(len(input_features), 1000,0.2).to(DEVICE)\n",
        "optimizer = torch.optim.Adam(model.parameters(), lr = 0.0005)\n",
        "model,training_execution_time,train_losses_dropout,valid_losses_dropout = training_loop(model,training_generator,valid_generator,optimizer,criterion,verbose=False)"
      ]
    },
    {
      "cell_type": "code",
      "execution_count": null,
      "metadata": {
        "id": "y_bLDJKItUNJ"
      },
      "outputs": [],
      "source": [
        "plt.plot(np.arange(len(train_losses_adam))+1, train_losses_adam)\n",
        "plt.plot(np.arange(len(valid_losses_adam))+1, valid_losses_adam)\n",
        "plt.plot(np.arange(len(train_losses_dropout))+1, train_losses_dropout)\n",
        "plt.plot(np.arange(len(valid_losses_dropout))+1, valid_losses_dropout)\n",
        "plt.title(\"Dropout effect\")\n",
        "plt.xlabel('epoch')\n",
        "plt.ylabel('loss')\n",
        "plt.legend(['train w/o dropout','valid w/o dropout','train w/ dropout','valid w/ dropout'])"
      ]
    },
    {
      "cell_type": "markdown",
      "metadata": {
        "id": "2q6daUMftUNK"
      },
      "source": [
        "It is generally reported that a small dropout value can lead to better generalization results than no dropout, but it can sometimes be the opposite if the training data are very rich, if the training distribution is close to the valid/test distribution, and if the model is already not too expressive. So, the best practice is to consider dropout as a hyperparameter (that could be set to 0) and tune it with a hyperparameter search.\n",
        "\n",
        "In addition to the L2-regularization effect, dropout can be seen as a very powerful mechanism that mimics ensembling strategies like bagging (the model can be seen as an ensemble of submodels trained on different subsets of data) {cite}`goodfellow2016deep`."
      ]
    },
    {
      "cell_type": "markdown",
      "metadata": {
        "id": "Da7Rvka4tUNK"
      },
      "source": [
        "## Scaling the inputs"
      ]
    },
    {
      "cell_type": "markdown",
      "metadata": {
        "id": "r0srFI-DtUNK"
      },
      "source": [
        "XGBoost and random forests learn splits on single features and therefore are robust to the scale and distribution of the values. On the contrary, in a neural network, each neuron of the first layer learns a linear combination of all the features. Therefore, it is easier to train the neurons when all features have the same range and are normally distributed. The first property can be easily implemented by applying min-max or standard scaling on the features. As for the second property, it depends on the original distribution of the features. Some of them are not normally distributed and have non-linear scales (e.g. amount): increasing the amount by 5 dollars should not have the same effect if the starting point is 5 dollars or if the starting point is 100 dollars. It turns out that applying the log function on such features can make their distribution slightly more normal which makes it easier for feed-forward neural networks to learn from them."
      ]
    },
    {
      "cell_type": "code",
      "execution_count": null,
      "metadata": {
        "id": "lRFG7b5-tUNK"
      },
      "outputs": [],
      "source": [
        "(train_df, valid_df)=get_train_test_set(transactions_df,start_date_training_with_valid,\n",
        "                                       delta_train=delta_train,delta_delay=delta_delay,delta_test=delta_test)"
      ]
    },
    {
      "cell_type": "markdown",
      "metadata": {
        "id": "zHtPtzmutUNK"
      },
      "source": [
        "For instance here is how the original amounts look like:"
      ]
    },
    {
      "cell_type": "code",
      "execution_count": null,
      "metadata": {
        "id": "2pqMQYc1tUNK"
      },
      "outputs": [],
      "source": [
        "_ = plt.hist(train_df['TX_AMOUNT'].values,bins=20)"
      ]
    },
    {
      "cell_type": "markdown",
      "metadata": {
        "id": "FIPNf3natUNK"
      },
      "source": [
        "And now let us apply the log function to it. To obtain a positive log for the feature that is in [0,+∞[, an idea is to add 1 and then apply the log function (which is equivalent to applying the `log1p` function in `numpy`). This leads to a preprocessed feature that belongs to [0,+∞[ and it can then be standardized. Here is how the amounts are distributed after all these steps:"
      ]
    },
    {
      "cell_type": "code",
      "execution_count": null,
      "metadata": {
        "id": "qyndO6vDtUNK"
      },
      "outputs": [],
      "source": [
        "_ = plt.hist(sklearn.preprocessing.StandardScaler().fit_transform(np.log1p(train_df['TX_AMOUNT'].values).reshape(-1, 1)),bins=20)"
      ]
    },
    {
      "cell_type": "markdown",
      "metadata": {
        "id": "6hu9FY7jtUNL"
      },
      "source": [
        "Note that here, our artificial data were generated with Gaussians so the `np.log1p` is not very useful in practice. But keep in mind that on real-world data, the original scale of features like amount is far from normally distributed and this operation turns out to be quite often useful.\n",
        "\n",
        "Let us forget about the log for now and just analyze the impact of scaling the features on our Neural Network's training. More precisely, let us see the difference between no scaling at all and standard scaling. A smaller learning rate of `0.0001` will be chosen here for the experiment without scaling to avoid divergence."
      ]
    },
    {
      "cell_type": "code",
      "execution_count": null,
      "metadata": {
        "id": "c6JJGAHYtUNL"
      },
      "outputs": [],
      "source": [
        "#we did not call the function scaleData this time\n",
        "seed_everything(SEED)\n",
        "training_generator,valid_generator = prepare_generators(train_df,valid_df,batch_size=64)\n",
        "\n",
        "model = SimpleFraudMLPWithDropout(len(input_features), 1000,0.2).to(DEVICE)\n",
        "optimizer = torch.optim.Adam(model.parameters(), lr = 0.0001)\n",
        "model,training_execution_time,train_losses_without_scaling,valid_losses_without_scaling = training_loop(model,training_generator,valid_generator,optimizer,criterion,verbose=False)"
      ]
    },
    {
      "cell_type": "code",
      "execution_count": null,
      "metadata": {
        "id": "n2X9tWWjtUNL"
      },
      "outputs": [],
      "source": [
        "plt.plot(np.arange(len(train_losses_without_scaling))+1, train_losses_without_scaling)\n",
        "plt.plot(np.arange(len(valid_losses_without_scaling))+1, valid_losses_without_scaling)\n",
        "plt.plot(np.arange(len(train_losses_dropout))+1, train_losses_dropout)\n",
        "plt.plot(np.arange(len(valid_losses_dropout))+1, valid_losses_dropout)\n",
        "plt.title('Scaling effect')\n",
        "plt.xlabel('epoch')\n",
        "plt.ylabel('loss')\n",
        "plt.legend(['train w/o scaling','valid w/o scaling','train w/ scaling','valid w/ scaling'])"
      ]
    },
    {
      "cell_type": "markdown",
      "metadata": {
        "id": "zreLaEURtUNL"
      },
      "source": [
        "The train/valid losses are smoother and reach much better levels faster when the data is normalized with standard scaling."
      ]
    },
    {
      "cell_type": "code",
      "execution_count": null,
      "metadata": {
        "id": "3TGogoaetUNL"
      },
      "outputs": [],
      "source": [
        "# Let us rescale data for the next parts\n",
        "(train_df, valid_df)=scaleData(train_df, valid_df,input_features)"
      ]
    },
    {
      "cell_type": "markdown",
      "metadata": {
        "id": "mB32zSb7tUNU"
      },
      "source": [
        "## Benchmark summary\n",
        "\n",
        "Let us finally retrieve the performance results obtained in [Chapter 5](Model_Selection_Comparison_Performances) with decision tree, logistic regression, random forest and XGBoost, and compare them with those obtained with a feed-forward neural network. The results can be retrieved by loading the `performances_model_selection.pkl` and `performances_model_selection_nn.pkl` pickle files, and summarized with the `get_summary_performances` function."
      ]
    },
    {
      "cell_type": "code",
      "execution_count": null,
      "metadata": {
        "tags": [
          "hide-cell"
        ],
        "id": "EsuiCKmqtUNU"
      },
      "outputs": [],
      "source": [
        "# Load performance results for decision tree, logistic regression, random forest and XGBoost\n",
        "filehandler = open('../Chapter_5_ModelValidationAndSelection/performances_model_selection.pkl', 'rb')\n",
        "(performances_df_dictionary, execution_times) = pickle.load(filehandler)\n",
        "\n",
        "# Load performance results for feed-forward neural network\n",
        "filehandler = open('performances_model_selection_nn.pkl', 'rb')\n",
        "(performances_df_dictionary_nn, execution_times_nn) = pickle.load(filehandler)\n"
      ]
    },
    {
      "cell_type": "code",
      "source": [
        "print('So far so good')"
      ],
      "metadata": {
        "id": "VDO7Qhbo7CLa"
      },
      "execution_count": null,
      "outputs": []
    },
    {
      "cell_type": "code",
      "execution_count": null,
      "metadata": {
        "tags": [
          "hide-cell"
        ],
        "id": "K7n-0y1-tUNU"
      },
      "outputs": [],
      "source": [
        "performances_df_dt=performances_df_dictionary['Decision Tree']\n",
        "summary_performances_dt=get_summary_performances(performances_df_dt, parameter_column_name=\"Parameters summary\")\n",
        "\n",
        "performances_df_lr=performances_df_dictionary['Logistic Regression']\n",
        "summary_performances_lr=get_summary_performances(performances_df_lr, parameter_column_name=\"Parameters summary\")\n",
        "\n",
        "performances_df_rf=performances_df_dictionary['Random Forest']\n",
        "summary_performances_rf=get_summary_performances(performances_df_rf, parameter_column_name=\"Parameters summary\")\n",
        "\n",
        "performances_df_xgboost=performances_df_dictionary['XGBoost']\n",
        "summary_performances_xgboost=get_summary_performances(performances_df_xgboost, parameter_column_name=\"Parameters summary\")\n",
        "\n",
        "performances_df_nn=performances_df_dictionary_nn['Neural Network']\n",
        "summary_performances_nn=get_summary_performances(performances_df_nn, parameter_column_name=\"Parameters summary\")\n",
        "\n",
        "summary_test_performances = pd.concat([summary_performances_dt.iloc[2,:],\n",
        "                                       summary_performances_lr.iloc[2,:],\n",
        "                                       summary_performances_rf.iloc[2,:],\n",
        "                                       summary_performances_xgboost.iloc[2,:],\n",
        "                                       summary_performances_nn.iloc[2,:],\n",
        "                                      ],axis=1)\n",
        "\n",
        "summary_test_performances.columns=['Decision Tree', 'Logistic Regression', 'Random Forest', 'XGBoost', 'Neural Network']\n"
      ]
    },
    {
      "cell_type": "markdown",
      "metadata": {
        "id": "k_fh5qbOtUNU"
      },
      "source": [
        "The results are summarized in a `summary_test_performances` table. Rows provide the average performance results on the test sets in terms of AUC ROC, Average Precision and CP@100."
      ]
    },
    {
      "cell_type": "code",
      "execution_count": null,
      "metadata": {
        "id": "xYgIgpbbtUNU"
      },
      "outputs": [],
      "source": [
        "summary_test_performances"
      ]
    },
    {
      "cell_type": "markdown",
      "metadata": {
        "id": "iUHVyp3mtUNU"
      },
      "source": [
        "Overall, it appears that our simple feed-forward neural network is a good competitor in terms of predictive performance for the fraud detection problem, providing the best performances in terms of AUC ROC and CP@100, and competitive performances in terms of Average Precision. Moreover, it benefits from many advantages (e.g. its ability for incremental learning), as mentioned in the previous section."
      ]
    },
    {
      "cell_type": "markdown",
      "source": [
        "\n",
        "\n",
        "```\n",
        "# This is formatted as code\n",
        "```\n",
        "\n",
        "# Adversarial Attacks"
      ],
      "metadata": {
        "id": "bLt8bTmJtxO8"
      }
    },
    {
      "cell_type": "markdown",
      "source": [],
      "metadata": {
        "id": "3vGMQc9luTDI"
      }
    },
    {
      "cell_type": "code",
      "source": [
        "print('Adversarial Attacks')"
      ],
      "metadata": {
        "id": "uPH841z0v_08"
      },
      "execution_count": null,
      "outputs": []
    },
    {
      "cell_type": "markdown",
      "source": [],
      "metadata": {
        "id": "IlTwADzbuTFc"
      }
    },
    {
      "cell_type": "markdown",
      "source": [
        "\n",
        "\n",
        "```\n",
        "# This is formatted as code\n",
        "```\n",
        "\n",
        "# White Box Attacks\n"
      ],
      "metadata": {
        "id": "CxCCsfg8tyHz"
      }
    },
    {
      "cell_type": "markdown",
      "source": [],
      "metadata": {
        "id": "7HNN8vkluRnE"
      }
    },
    {
      "cell_type": "markdown",
      "source": [],
      "metadata": {
        "id": "sA8sz_t3uRqG"
      }
    },
    {
      "cell_type": "code",
      "source": [
        "!pip install adversarial-robustness-toolbox\n"
      ],
      "metadata": {
        "id": "egKl4kxQuPWr"
      },
      "execution_count": null,
      "outputs": []
    },
    {
      "cell_type": "code",
      "source": [
        "from art.att"
      ],
      "metadata": {
        "id": "s8fqFee3uPwx"
      },
      "execution_count": null,
      "outputs": []
    },
    {
      "cell_type": "code",
      "source": [],
      "metadata": {
        "id": "Pku3nO6euP7Y"
      },
      "execution_count": null,
      "outputs": []
    },
    {
      "cell_type": "markdown",
      "source": [
        "# Black Box Attacks\n"
      ],
      "metadata": {
        "id": "xAqdTYxQuBPc"
      }
    },
    {
      "cell_type": "code",
      "source": [],
      "metadata": {
        "id": "rsT9zt7xuQj1"
      },
      "execution_count": null,
      "outputs": []
    },
    {
      "cell_type": "code",
      "source": [],
      "metadata": {
        "id": "_dN2dah7uQmv"
      },
      "execution_count": null,
      "outputs": []
    },
    {
      "cell_type": "code",
      "source": [],
      "metadata": {
        "id": "ShGqpQ95uQpU"
      },
      "execution_count": null,
      "outputs": []
    },
    {
      "cell_type": "markdown",
      "source": [
        "# Random Attack\n"
      ],
      "metadata": {
        "id": "XcSVMWyMuFR5"
      }
    },
    {
      "cell_type": "code",
      "source": [],
      "metadata": {
        "id": "zo74m73suULR"
      },
      "execution_count": null,
      "outputs": []
    },
    {
      "cell_type": "code",
      "source": [],
      "metadata": {
        "id": "hIBmNfl8uUNZ"
      },
      "execution_count": null,
      "outputs": []
    },
    {
      "cell_type": "code",
      "source": [],
      "metadata": {
        "id": "nUCT_F6DuUQG"
      },
      "execution_count": null,
      "outputs": []
    }
  ],
  "metadata": {
    "celltoolbar": "Tags",
    "kernelspec": {
      "display_name": "Python 3 (ipykernel)",
      "language": "python",
      "name": "python3"
    },
    "language_info": {
      "codemirror_mode": {
        "name": "ipython",
        "version": 3
      },
      "file_extension": ".py",
      "mimetype": "text/x-python",
      "name": "python",
      "nbconvert_exporter": "python",
      "pygments_lexer": "ipython3",
      "version": "3.8.10"
    },
    "colab": {
      "provenance": [],
      "toc_visible": true
    }
  },
  "nbformat": 4,
  "nbformat_minor": 0
}