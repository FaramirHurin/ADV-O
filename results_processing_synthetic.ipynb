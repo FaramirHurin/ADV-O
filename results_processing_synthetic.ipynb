{
 "cells": [
  {
   "cell_type": "code",
   "execution_count": 10,
   "metadata": {},
   "outputs": [],
   "source": [
    "import os\n",
    "import pandas as pd\n",
    "import numpy as np\n",
    "import matplotlib.pyplot as plt\n",
    "import seaborn as sns\n",
    "import scipy.stats as stats\n",
    "import pickle\n",
    "import re\n",
    "\n",
    "#from the folders results_real load all csv files that start with dataFrame_results and put them in a dictionary with the name of the file as key\n",
    "# Path: results_processing.ipynb\n",
    "def load_results(path):\n",
    "    results = {}\n",
    "    for file in os.listdir(path):\n",
    "        if file.startswith('dataFrame_results'):\n",
    "            results[file[len(\"dataFrame_results\"):-len('.csv')]] = pd.read_csv(os.path.join(path, file))\n",
    "    return results\n",
    "\n",
    "#load the results from the folder results_real\n",
    "# Path: results_processing.ipynb\n",
    "results = load_results('results_synthetic_10days')\n",
    "\n"
   ]
  },
  {
   "cell_type": "code",
   "execution_count": 11,
   "metadata": {},
   "outputs": [
    {
     "name": "stderr",
     "output_type": "stream",
     "text": [
      "/tmp/ipykernel_70776/1114752087.py:4: FutureWarning: The default value of numeric_only in DataFrame.mean is deprecated. In a future version, it will default to False. In addition, specifying 'numeric_only=None' is deprecated. Select only valid columns or specify the value of numeric_only to silence this warning.\n",
      "  df = pd.DataFrame({'mean': dataset.mean(), 'std': dataset.std()})\n",
      "/tmp/ipykernel_70776/1114752087.py:4: FutureWarning: The default value of numeric_only in DataFrame.std is deprecated. In a future version, it will default to False. In addition, specifying 'numeric_only=None' is deprecated. Select only valid columns or specify the value of numeric_only to silence this warning.\n",
      "  df = pd.DataFrame({'mean': dataset.mean(), 'std': dataset.std()})\n",
      "/tmp/ipykernel_70776/1114752087.py:4: FutureWarning: The default value of numeric_only in DataFrame.mean is deprecated. In a future version, it will default to False. In addition, specifying 'numeric_only=None' is deprecated. Select only valid columns or specify the value of numeric_only to silence this warning.\n",
      "  df = pd.DataFrame({'mean': dataset.mean(), 'std': dataset.std()})\n",
      "/tmp/ipykernel_70776/1114752087.py:4: FutureWarning: The default value of numeric_only in DataFrame.std is deprecated. In a future version, it will default to False. In addition, specifying 'numeric_only=None' is deprecated. Select only valid columns or specify the value of numeric_only to silence this warning.\n",
      "  df = pd.DataFrame({'mean': dataset.mean(), 'std': dataset.std()})\n",
      "/tmp/ipykernel_70776/1114752087.py:4: FutureWarning: The default value of numeric_only in DataFrame.mean is deprecated. In a future version, it will default to False. In addition, specifying 'numeric_only=None' is deprecated. Select only valid columns or specify the value of numeric_only to silence this warning.\n",
      "  df = pd.DataFrame({'mean': dataset.mean(), 'std': dataset.std()})\n",
      "/tmp/ipykernel_70776/1114752087.py:4: FutureWarning: The default value of numeric_only in DataFrame.std is deprecated. In a future version, it will default to False. In addition, specifying 'numeric_only=None' is deprecated. Select only valid columns or specify the value of numeric_only to silence this warning.\n",
      "  df = pd.DataFrame({'mean': dataset.mean(), 'std': dataset.std()})\n",
      "/tmp/ipykernel_70776/1114752087.py:4: FutureWarning: The default value of numeric_only in DataFrame.mean is deprecated. In a future version, it will default to False. In addition, specifying 'numeric_only=None' is deprecated. Select only valid columns or specify the value of numeric_only to silence this warning.\n",
      "  df = pd.DataFrame({'mean': dataset.mean(), 'std': dataset.std()})\n",
      "/tmp/ipykernel_70776/1114752087.py:4: FutureWarning: The default value of numeric_only in DataFrame.std is deprecated. In a future version, it will default to False. In addition, specifying 'numeric_only=None' is deprecated. Select only valid columns or specify the value of numeric_only to silence this warning.\n",
      "  df = pd.DataFrame({'mean': dataset.mean(), 'std': dataset.std()})\n",
      "/tmp/ipykernel_70776/1114752087.py:4: FutureWarning: The default value of numeric_only in DataFrame.mean is deprecated. In a future version, it will default to False. In addition, specifying 'numeric_only=None' is deprecated. Select only valid columns or specify the value of numeric_only to silence this warning.\n",
      "  df = pd.DataFrame({'mean': dataset.mean(), 'std': dataset.std()})\n",
      "/tmp/ipykernel_70776/1114752087.py:4: FutureWarning: The default value of numeric_only in DataFrame.std is deprecated. In a future version, it will default to False. In addition, specifying 'numeric_only=None' is deprecated. Select only valid columns or specify the value of numeric_only to silence this warning.\n",
      "  df = pd.DataFrame({'mean': dataset.mean(), 'std': dataset.std()})\n",
      "/tmp/ipykernel_70776/1114752087.py:4: FutureWarning: The default value of numeric_only in DataFrame.mean is deprecated. In a future version, it will default to False. In addition, specifying 'numeric_only=None' is deprecated. Select only valid columns or specify the value of numeric_only to silence this warning.\n",
      "  df = pd.DataFrame({'mean': dataset.mean(), 'std': dataset.std()})\n",
      "/tmp/ipykernel_70776/1114752087.py:4: FutureWarning: The default value of numeric_only in DataFrame.std is deprecated. In a future version, it will default to False. In addition, specifying 'numeric_only=None' is deprecated. Select only valid columns or specify the value of numeric_only to silence this warning.\n",
      "  df = pd.DataFrame({'mean': dataset.mean(), 'std': dataset.std()})\n",
      "/tmp/ipykernel_70776/1114752087.py:4: FutureWarning: The default value of numeric_only in DataFrame.mean is deprecated. In a future version, it will default to False. In addition, specifying 'numeric_only=None' is deprecated. Select only valid columns or specify the value of numeric_only to silence this warning.\n",
      "  df = pd.DataFrame({'mean': dataset.mean(), 'std': dataset.std()})\n",
      "/tmp/ipykernel_70776/1114752087.py:4: FutureWarning: The default value of numeric_only in DataFrame.std is deprecated. In a future version, it will default to False. In addition, specifying 'numeric_only=None' is deprecated. Select only valid columns or specify the value of numeric_only to silence this warning.\n",
      "  df = pd.DataFrame({'mean': dataset.mean(), 'std': dataset.std()})\n",
      "/tmp/ipykernel_70776/1114752087.py:4: FutureWarning: The default value of numeric_only in DataFrame.mean is deprecated. In a future version, it will default to False. In addition, specifying 'numeric_only=None' is deprecated. Select only valid columns or specify the value of numeric_only to silence this warning.\n",
      "  df = pd.DataFrame({'mean': dataset.mean(), 'std': dataset.std()})\n",
      "/tmp/ipykernel_70776/1114752087.py:4: FutureWarning: The default value of numeric_only in DataFrame.std is deprecated. In a future version, it will default to False. In addition, specifying 'numeric_only=None' is deprecated. Select only valid columns or specify the value of numeric_only to silence this warning.\n",
      "  df = pd.DataFrame({'mean': dataset.mean(), 'std': dataset.std()})\n",
      "/tmp/ipykernel_70776/1114752087.py:4: FutureWarning: The default value of numeric_only in DataFrame.mean is deprecated. In a future version, it will default to False. In addition, specifying 'numeric_only=None' is deprecated. Select only valid columns or specify the value of numeric_only to silence this warning.\n",
      "  df = pd.DataFrame({'mean': dataset.mean(), 'std': dataset.std()})\n",
      "/tmp/ipykernel_70776/1114752087.py:4: FutureWarning: The default value of numeric_only in DataFrame.std is deprecated. In a future version, it will default to False. In addition, specifying 'numeric_only=None' is deprecated. Select only valid columns or specify the value of numeric_only to silence this warning.\n",
      "  df = pd.DataFrame({'mean': dataset.mean(), 'std': dataset.std()})\n",
      "/tmp/ipykernel_70776/1114752087.py:4: FutureWarning: The default value of numeric_only in DataFrame.mean is deprecated. In a future version, it will default to False. In addition, specifying 'numeric_only=None' is deprecated. Select only valid columns or specify the value of numeric_only to silence this warning.\n",
      "  df = pd.DataFrame({'mean': dataset.mean(), 'std': dataset.std()})\n",
      "/tmp/ipykernel_70776/1114752087.py:4: FutureWarning: The default value of numeric_only in DataFrame.std is deprecated. In a future version, it will default to False. In addition, specifying 'numeric_only=None' is deprecated. Select only valid columns or specify the value of numeric_only to silence this warning.\n",
      "  df = pd.DataFrame({'mean': dataset.mean(), 'std': dataset.std()})\n",
      "/tmp/ipykernel_70776/1114752087.py:4: FutureWarning: The default value of numeric_only in DataFrame.mean is deprecated. In a future version, it will default to False. In addition, specifying 'numeric_only=None' is deprecated. Select only valid columns or specify the value of numeric_only to silence this warning.\n",
      "  df = pd.DataFrame({'mean': dataset.mean(), 'std': dataset.std()})\n",
      "/tmp/ipykernel_70776/1114752087.py:4: FutureWarning: The default value of numeric_only in DataFrame.std is deprecated. In a future version, it will default to False. In addition, specifying 'numeric_only=None' is deprecated. Select only valid columns or specify the value of numeric_only to silence this warning.\n",
      "  df = pd.DataFrame({'mean': dataset.mean(), 'std': dataset.std()})\n"
     ]
    }
   ],
   "source": [
    "mean_std_dictionary = {}\n",
    "for metric, dataset in results.items():\n",
    "    #put dataset.mean and dataset.std in a dataframe with the column names mean and std\n",
    "    df = pd.DataFrame({'mean': dataset.mean(), 'std': dataset.std()})\n",
    "    df = df.round(2)\n",
    "    #put the dataframe in a dictionary with the name of the metric as key\n",
    "    mean_std_dictionary[metric] = df"
   ]
  },
  {
   "cell_type": "code",
   "execution_count": 13,
   "metadata": {},
   "outputs": [],
   "source": [
    "# Combine all the dataframes into one dataframe\n",
    "df = pd.concat(mean_std_dictionary, axis=0)\n",
    "\n",
    "# Unstack the dataframe to have models as columns and (metric, mean) and (metric, std) as multi-level indexes\n",
    "unstacked_df = df.unstack()\n",
    "\n",
    "# Transpose the dataframe to have models as columns and metrics as rows\n",
    "unique_df = unstacked_df\n",
    "unique_df = unique_df.swaplevel(0, 1, axis=1).sort_index(axis=0)\n",
    "\n",
    "#reored the column putting mean and std besides\n",
    "unique_df = unique_df.reindex(['mean', 'std'], axis=1, level=1)\n",
    "\n",
    "unique_df = unique_df.reorder_levels([0, 1], axis=1)\n",
    "unique_df = unique_df.sort_index(axis=1)\n",
    "\n",
    "#save to csv\n",
    "unique_df.to_csv('synthetic_results_10d.csv', index=True, header=True)\n"
   ]
  },
  {
   "attachments": {},
   "cell_type": "markdown",
   "metadata": {},
   "source": [
    "# Regressor scores"
   ]
  },
  {
   "cell_type": "code",
   "execution_count": 14,
   "metadata": {},
   "outputs": [],
   "source": [
    "def load_results(path):\n",
    "    results = {}\n",
    "    for file in os.listdir(path):\n",
    "        if file.startswith('regressor_scores_'):\n",
    "            results[file[len(\"regressor_scores_\"):-len('.csv')]] = pd.read_csv(os.path.join(path, file))\n",
    "    return results\n",
    "\n",
    "#load the results from the folder results_real\n",
    "# Path: results_processing.ipynb\n",
    "results = load_results('results_real10days')"
   ]
  },
  {
   "cell_type": "code",
   "execution_count": 15,
   "metadata": {},
   "outputs": [],
   "source": [
    "df = pd.concat(results.values(), keys=results.keys())"
   ]
  },
  {
   "cell_type": "code",
   "execution_count": 16,
   "metadata": {},
   "outputs": [],
   "source": [
    "grouped = df.groupby(level=1)\n",
    "\n",
    "result = grouped.agg(\n",
    "    X_TERMINAL_mean=('X_TERMINAL', np.mean),\n",
    "    X_TERMINAL_std=('X_TERMINAL', np.std),\n",
    "    Y_TERMINAL_mean=('Y_TERMINAL', np.mean),\n",
    "    Y_TERMINAL_std=('Y_TERMINAL', np.std),\n",
    "    TX_AMOUNT_mean=('TX_AMOUNT', np.mean),\n",
    "    TX_AMOUNT_std=('TX_AMOUNT', np.std),\n",
    ").reset_index(drop=True)\n"
   ]
  },
  {
   "cell_type": "code",
   "execution_count": 17,
   "metadata": {},
   "outputs": [],
   "source": [
    "result.round(2).to_csv('synthetic_results_10d_regressors.csv', index=True, header=True)"
   ]
  }
 ],
 "metadata": {
  "kernelspec": {
   "display_name": "advo",
   "language": "python",
   "name": "python3"
  },
  "language_info": {
   "codemirror_mode": {
    "name": "ipython",
    "version": 3
   },
   "file_extension": ".py",
   "mimetype": "text/x-python",
   "name": "python",
   "nbconvert_exporter": "python",
   "pygments_lexer": "ipython3",
   "version": "3.10.9"
  },
  "orig_nbformat": 4
 },
 "nbformat": 4,
 "nbformat_minor": 2
}
